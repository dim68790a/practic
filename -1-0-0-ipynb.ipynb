{
  "nbformat": 4,
  "nbformat_minor": 0,
  "metadata": {
    "colab": {
      "provenance": [],
      "include_colab_link": true
    },
    "kernelspec": {
      "name": "python3",
      "display_name": "Python 3"
    },
    "language_info": {
      "name": "python"
    }
  },
  "cells": [
    {
      "cell_type": "markdown",
      "metadata": {
        "id": "view-in-github",
        "colab_type": "text"
      },
      "source": [
        "<a href=\"https://colab.research.google.com/gist/dim68790a/77bc45ebfc46f46c060f5776342a8e0d/-1-0-0-ipynb.ipynb\" target=\"_parent\"><img src=\"https://colab.research.google.com/assets/colab-badge.svg\" alt=\"Open In Colab\"/></a>"
      ]
    },
    {
      "cell_type": "markdown",
      "source": [
        "ФИО:"
      ],
      "metadata": {
        "id": "fLDS5f_mCnPa"
      }
    },
    {
      "cell_type": "markdown",
      "source": [
        "# Задание (совместное с преподавателем)\n",
        "\n",
        "\n"
      ],
      "metadata": {
        "id": "-CSHUbWzCqeM"
      }
    },
    {
      "cell_type": "markdown",
      "source": [
        "Напишите систему для учёта отпусков с возможностью узнавать, сколько дней отпуска осталось у того или иного сотрудника.\n",
        "Для этого создайте класс Employee со следующими методами:\n",
        "\n",
        "- Метод consume_vacation должен отвечать за списание дней отпуска.\n",
        "\n",
        "Единственный параметр этого метода (кроме self) — количество потраченных отпускных дней (целое число).\n",
        "\n",
        "При вызове метода consume_vacation соответствующее количество дней должно вычитаться из общего числа доступных отпускных дней сотрудника.\n",
        "\n",
        "Чтобы определить число доступных отпускных дней конкретного сотрудника, в классе опишите атрибут экземпляра remaining_vacation_days, который по умолчанию будет равен значению атрибута класса vacation_days, и используйте этот атрибут в работе метода.\n",
        "\n",
        "- Метод get_vacation_details должен возвращать остаток отпускных дней сотрудника в формате: ```Остаток отпускных дней: <число>.```\n",
        "\n",
        "\n",
        "Чтобы проверить работу программы:\n",
        "1. Создайте экземпляр класса Employee.\n",
        "2. Вызовите метод consume_vacation, указав подходящее значение аргумента, например 7.\n",
        "3. Вызовите метод get_vacation_details."
      ],
      "metadata": {
        "id": "a_flBjZOCwYz"
      }
    },
    {
      "cell_type": "code",
      "source": [
        "class Employee:\n",
        "    vacation_days = 28\n",
        "\n",
        "    def __init__(self, first_name, second_name, gender): # конструктор\n",
        "        self.first_name = first_name\n",
        "        self.second_name = second_name\n",
        "        self.gender = gender\n",
        "        self.remaining_vacation_days = self.vacation_days\n",
        "\n",
        "    def consume_vacation(self, days): # метод для вычитания дней\n",
        "        self.remaining_vacation_days -= days\n",
        "\n",
        "    def get_vacation_details(self):\n",
        "        return f'Остаток отпускных дней: {self.remaining_vacation_days}.'\n",
        "\n",
        "employee = Employee(\"Олег\", \"Отчисленный\", \"Мужчина\")\n",
        "employee.consume_vacation(7)\n",
        "print(employee.remaining_vacation_days)\n",
        "print(employee.get_vacation_details())"
      ],
      "metadata": {
        "id": "G4bUraN4CwBI",
        "colab": {
          "base_uri": "https://localhost:8080/"
        },
        "outputId": "192e4dcc-9cc4-4662-c92f-b92901020958"
      },
      "execution_count": null,
      "outputs": [
        {
          "output_type": "stream",
          "name": "stdout",
          "text": [
            "21\n",
            "Остаток отпускных дней: 21.\n"
          ]
        }
      ]
    },
    {
      "cell_type": "markdown",
      "source": [
        "# Задание 1"
      ],
      "metadata": {
        "id": "8XGka5GtEBK1"
      }
    },
    {
      "cell_type": "markdown",
      "source": [
        "Задание:\n",
        "\n",
        "Создайте класс с именем Rectangle который имеет:\n",
        "- Атрибуты ширины и высоты.\n",
        "- Метод расчета площади.\n",
        "- Метод расчета периметра.\n",
        "- Метод отображения размеров прямоугольника.\n",
        "\n",
        "Создайте экземпляр класса Rectangleи продемонстрируйте его функциональность."
      ],
      "metadata": {
        "id": "jQ4qqd8nEZBY"
      }
    },
    {
      "cell_type": "code",
      "source": [
        "class Rectangle:\n",
        "    def __init__(self, long, width):\n",
        "        self.long = long\n",
        "        self.width = width\n",
        "        self.square = long * width\n",
        "        self.perimeter = long * 2 + width * 2\n",
        "\n",
        "    def info(self):\n",
        "        return f'Площадь {self.square}, периметр {self.perimeter}'\n",
        "\n",
        "long = int(input('Длина = '))\n",
        "width = int(input('Ширина = '))\n",
        "result = Rectangle(long, width)\n",
        "print(result.info())"
      ],
      "metadata": {
        "id": "dG6uNPqTEAvt",
        "colab": {
          "base_uri": "https://localhost:8080/"
        },
        "outputId": "5caca227-795c-4e29-f18f-b460d863f664"
      },
      "execution_count": null,
      "outputs": [
        {
          "output_type": "stream",
          "name": "stdout",
          "text": [
            "Длина = 7\n",
            "Ширина = 3\n",
            "Площадь 21, периметр 20\n"
          ]
        }
      ]
    },
    {
      "cell_type": "markdown",
      "source": [
        "# Задание 2"
      ],
      "metadata": {
        "id": "0ct1u6lqE73j"
      }
    },
    {
      "cell_type": "markdown",
      "source": [
        "Задание: Создайте мини версию банковской системы:\n",
        "\n",
        "\n",
        "Инструкции:\n",
        "\n",
        "1. Создайте класс BankAccountсо следующими атрибутами:\n",
        "    - account_holder -  владелец счета\n",
        "    - balance - баланс счета\n",
        "\n",
        "2. Реализуйте следующие методы:\n",
        "    - Метод для инициализации владельца счета: имя владельца счета и установите начальный баланс на 0.\n",
        "    - deposit(amount): Добавьте указанную сумму к балансу.\n",
        "    - withdraw(amount): Вычесть указанную сумму из баланса, если средств достаточно; в противном случае вывести предупреждение.\n",
        "    - get_balance(): Возврат текущего баланса.\n",
        "\n",
        "\n",
        "Создайте объект класса и продемонстрируйте его возможности"
      ],
      "metadata": {
        "id": "FOpIpcLxE-WK"
      }
    },
    {
      "cell_type": "code",
      "source": [
        "class BankAccountco:\n",
        "    def __init__(self, account_holder):\n",
        "        self.account_holder = account_holder\n",
        "        self.balance = 0\n",
        "\n",
        "    def deposit(self, amount):\n",
        "        self.balance += amount\n",
        "        print(f'Баланс пополнен на {amount}')\n",
        "\n",
        "    def withdraw(self, amount):\n",
        "        if self.balance >= amount:\n",
        "            self.balance -= amount\n",
        "            print(f'Списано {amount}')\n",
        "        else:\n",
        "            print('Недостаточно средств')\n",
        "\n",
        "    def get_balance(self):\n",
        "        print(f'У вас на балансе {self.balance}')\n",
        "\n",
        "account = BankAccountco(\"Петя\")\n",
        "account.deposit(1000000)\n",
        "account.withdraw(777777)\n",
        "account.get_balance()\n",
        "account.withdraw(777777)"
      ],
      "metadata": {
        "id": "WWXNIUrCE99W",
        "colab": {
          "base_uri": "https://localhost:8080/"
        },
        "outputId": "e3047d51-1636-4bc2-baf2-894d002364d8"
      },
      "execution_count": null,
      "outputs": [
        {
          "output_type": "stream",
          "name": "stdout",
          "text": [
            "Баланс пополнен на 1000000\n",
            "Списано 777777\n",
            "У вас на балансе 222223\n",
            "Недостаточно средств\n"
          ]
        }
      ]
    },
    {
      "cell_type": "markdown",
      "source": [
        "# Задание 3"
      ],
      "metadata": {
        "id": "C5DX5Uf2FfP6"
      }
    },
    {
      "cell_type": "markdown",
      "source": [
        "Возьмите код и задание (Рыцарь и дракон) из предыдущей практики и реализуйте его с применением классов"
      ],
      "metadata": {
        "id": "0cR-MYepFgz6"
      }
    },
    {
      "cell_type": "code",
      "source": [
        "import random as rm\n",
        "\n",
        "class Game:\n",
        "    def box(self):\n",
        "        global hero, hp\n",
        "        lut = rm.randint(0, 100)\n",
        "        dm = rm.randint(10, 30)\n",
        "        armor = rm.randint(5, 15)\n",
        "        if 0 <= lut <= 30:\n",
        "            print(f\"там лежал меч с урон {dm}\")\n",
        "            question = int(input(\"Берём?: 1. да 2. нет \"))\n",
        "            if question == 1:\n",
        "                hero['оружие'] = dm\n",
        "        elif 31 <= lut <= 61:\n",
        "            print(f\"там лежали доспехи с защитой {armor}\")\n",
        "            question = int(input(\"Берём?: 1. да 2. нет \"))\n",
        "            if question == 1:\n",
        "                hero['защита'] = armor\n",
        "        elif 62 <= lut <= 90:\n",
        "            print(f\"там лежали меч и доспехи с уроном {dm} и защитой {armor}\")\n",
        "            question = int(input(\"Берём?: 1. только меч 2. только защиту 3. всё \"\n",
        "                                 \"4. нет \"))\n",
        "            if question == 1:\n",
        "                hero['оружие'] = dm\n",
        "            elif question == 2:\n",
        "                hero['защита'] = armor\n",
        "            elif question == 3:\n",
        "                hero['защита'] = armor\n",
        "                hero['оружие'] = dm\n",
        "        else:\n",
        "            print(f\"там была ловушка вы потеряли {dm}\")\n",
        "            hero[\"здоровье\"] -= dm\n",
        "\n",
        "    def pers(self):\n",
        "        global hp, damage\n",
        "        hero = {\"здоровье\": hp, 'урон': damage, \"защита\": 0, \"оружие\": 0}\n",
        "        hero['name'] = input('Как назовём героя? ')\n",
        "        print(f'Вы {hero} у вас {hp} единеиц здоровья и {damage} урона')\n",
        "        print('доспехов и оружия нету')\n",
        "        return hero\n",
        "\n",
        "    def dragon(self):\n",
        "        enemy = {\"Здоровье\": rm.randint(100, 250), \"урон\": rm.randint(35, 60)}\n",
        "        return enemy\n",
        "\n",
        "    def fight(self):\n",
        "        global drag, hero\n",
        "        print(\"бой начинается\")\n",
        "        while hero[\"здоровье\"] > 0 and drag['Здоровье'] > 0:\n",
        "            do_drag = rm.randint(1, 3)\n",
        "            dam = hero['урон'] + hero['оружие'] - 10 + rm.randint(0, 20)\n",
        "            dam_dr = drag['урон'] - 10 + rm.randint(0, 20)\n",
        "            do_hero = int(input(\"что будем делать 1. атаковать 2.уклоняться \"))\n",
        "            if do_hero == 1:\n",
        "                if do_drag == 1:\n",
        "                    hero[\"здоровье\"] = hero[\"здоровье\"] - abs(hero[\"защита\"] - dam_dr)\n",
        "                    print('Дракон тоже атаковал но он сильнее ВЫ ПОЛУЧИЛИ УРОН')\n",
        "                elif do_drag == 2:\n",
        "                    drag['Здоровье'] = drag['Здоровье'] - (dam // 2)\n",
        "                    print('дракон выставил своё крыло вы нанесли ', dam // 2)\n",
        "                else:\n",
        "                    drag['Здоровье'] = drag['Здоровье'] - dam\n",
        "                    print('Дракон отдыхал вы нанесли', dam)\n",
        "            else:\n",
        "                if do_drag == 1:\n",
        "                    print('Дракон атаковал но вы увернулись')\n",
        "                elif do_drag == 2:\n",
        "                    hero['здоровье'] = hero['здоровье'] - abs(hero[\"защита\"]\n",
        "                                                              - (dam_dr // 2))\n",
        "                    print('дракон дыхнул огнем но вы увернулись вас только зацепило,'\n",
        "                          ' вам нанесли',\n",
        "                          abs(hero[\"защита\"] - (dam_dr // 2)))\n",
        "                else:\n",
        "                    print('Дракон отдыхал')\n",
        "        if hero[\"здоровье\"] > 0:\n",
        "            return 1\n",
        "        else:\n",
        "            return 0\n",
        "\n",
        "\n",
        "hp = 40\n",
        "damage = 10\n",
        "game = Game()\n",
        "hero = game.pers()\n",
        "print('вы сидите в темнице, перед вами сундук')\n",
        "question = int(input('открыть?: 1. да 2. нет '))\n",
        "if question == 1:\n",
        "    game.box()\n",
        "num = rm.randint(1, 5)\n",
        "print(f'впереди {num} драконов')\n",
        "while num > 0 and hero[\"здоровье\"] > 0:\n",
        "    drag = game.dragon()\n",
        "    print(f'Впреди дракон с {drag[\"Здоровье\"]} здоровье и {drag[\"урон\"]} уроном')\n",
        "    result = game.fight()\n",
        "    if result == 1:\n",
        "        print('ВЫ ПОБЕДИЛИ')\n",
        "        question = int(input('вы нашли сундук, открыть?: 1. да 2. нет '))\n",
        "        if question == 1:\n",
        "            game.box()\n",
        "        num -= 1\n",
        "    else:\n",
        "        print('вы погибли')\n",
        "        break"
      ],
      "metadata": {
        "id": "Oz9BZbhAFwua",
        "colab": {
          "base_uri": "https://localhost:8080/"
        },
        "outputId": "0270ab08-4f5e-4dc0-ffb5-3025aaf2eb52"
      },
      "execution_count": null,
      "outputs": [
        {
          "output_type": "stream",
          "name": "stdout",
          "text": [
            "Как назовём героя? Петя\n",
            "Вы {'здоровье': 40, 'урон': 10, 'защита': 0, 'оружие': 0, 'name': 'Петя'} у вас 40 единеиц здоровья и 10 урона\n",
            "доспехов и оружия нету\n",
            "вы сидите в темнице, перед вами сундук\n",
            "открыть?: 1. да 2. нет 1\n",
            "там лежали доспехи с защитой 5\n",
            "Берём?: 1. да 2. нет 1\n",
            "впереди 2 драконов\n",
            "Впреди дракон с 157 здоровье и 46 уроном\n",
            "бой начинается\n",
            "что будем делать 1. атаковать 2.уклоняться 1\n",
            "дракон выставил своё крыло вы нанесли  6\n",
            "что будем делать 1. атаковать 2.уклоняться 2\n",
            "Дракон атаковал но вы увернулись\n",
            "что будем делать 1. атаковать 2.уклоняться 1\n",
            "Дракон отдыхал вы нанесли 11\n",
            "что будем делать 1. атаковать 2.уклоняться 1\n",
            "Дракон отдыхал вы нанесли 8\n",
            "что будем делать 1. атаковать 2.уклоняться 2\n",
            "Дракон отдыхал\n",
            "что будем делать 1. атаковать 2.уклоняться 2\n",
            "дракон дыхнул огнем но вы увернулись вас только зацепило, вам нанесли 15\n",
            "что будем делать 1. атаковать 2.уклоняться 1\n",
            "дракон выставил своё крыло вы нанесли  0\n",
            "что будем делать 1. атаковать 2.уклоняться 1\n",
            "дракон выставил своё крыло вы нанесли  2\n",
            "что будем делать 1. атаковать 2.уклоняться 2\n",
            "Дракон отдыхал\n",
            "что будем делать 1. атаковать 2.уклоняться 1\n",
            "дракон выставил своё крыло вы нанесли  3\n",
            "что будем делать 1. атаковать 2.уклоняться 1\n",
            "дракон выставил своё крыло вы нанесли  6\n",
            "что будем делать 1. атаковать 2.уклоняться 2\n",
            "дракон дыхнул огнем но вы увернулись вас только зацепило, вам нанесли 22\n",
            "что будем делать 1. атаковать 2.уклоняться 1\n",
            "Дракон отдыхал вы нанесли 16\n",
            "что будем делать 1. атаковать 2.уклоняться 1\n",
            "дракон выставил своё крыло вы нанесли  8\n",
            "что будем делать 1. атаковать 2.уклоняться 1\n",
            "дракон выставил своё крыло вы нанесли  3\n",
            "что будем делать 1. атаковать 2.уклоняться 2\n",
            "Дракон отдыхал\n",
            "что будем делать 1. атаковать 2.уклоняться 1\n",
            "Дракон отдыхал вы нанесли 14\n",
            "что будем делать 1. атаковать 2.уклоняться 1\n",
            "Дракон тоже атаковал но он сильнее ВЫ ПОЛУЧИЛИ УРОН\n",
            "вы погибли\n"
          ]
        }
      ]
    },
    {
      "cell_type": "markdown",
      "source": [
        "# Дополнительное задание\n"
      ],
      "metadata": {
        "id": "b_mJHXcQGI9t"
      }
    },
    {
      "cell_type": "markdown",
      "source": [
        "Задача: Система управления библиотекой\n",
        "\n",
        "**Цель**\n",
        "Создайте простую систему управления библиотекой, которая позволит пользователям добавлять книги, брать книги, возвращать книги и просматривать список доступных книг.\n",
        "\n",
        "**Требования**\n",
        "\n",
        "1. **Определение класса**:\n",
        "   – Создайте класс с именем «Book» со следующими атрибутами:\n",
        "     - `title`\n",
        "     - `автор`\n",
        "     - `isbn`\n",
        "     - `is_borrowed` (по умолчанию `False`)\n",
        "\n",
        "2. **Класс библиотеки**:\n",
        "   - Создайте класс с именем Library, который управляет коллекцией книг.\n",
        "   - Класс должен иметь следующие методы:\n",
        "     - `__init__(self)`: инициализирует пустой список книг.\n",
        "     - `add_book(self, book: Book)`: добавляет новую книгу в библиотеку.\n",
        "     - `borrow_book(self, isbn: str)`: помечает книгу как заимствованную. Если книга не найдена или уже взята, выведите соответствующее сообщение.\n",
        "     - `return_book(self, isbn: str)`: помечает книгу как возвращенную. Если книга не найдена или не была взята взаймы, выведите соответствующее сообщение.\n",
        "     - `list_available_books(self)`: печатает список всех доступных книг в библиотеке.\n",
        "     - `find_book(self, isbn: str)`: возвращает объект книги, если он найден, в противном случае возвращает `None`.\n",
        "\n",
        "3. **Взаимодействие с пользователем**:\n",
        "   - Создайте простое текстовое меню, которое позволит пользователям:\n",
        "     - Добавить книгу\n",
        "     - Одолжить книгу\n",
        "     - Вернуть книгу\n",
        "     - Список доступных книг\n",
        "     - Выйти из программы"
      ],
      "metadata": {
        "id": "pnIUdFPcGOVL"
      }
    },
    {
      "cell_type": "code",
      "source": [],
      "metadata": {
        "id": "GKKmdfN8GL6f"
      },
      "execution_count": null,
      "outputs": []
    }
  ]
}