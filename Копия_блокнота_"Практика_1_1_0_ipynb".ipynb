{
  "nbformat": 4,
  "nbformat_minor": 0,
  "metadata": {
    "colab": {
      "provenance": [],
      "include_colab_link": true
    },
    "kernelspec": {
      "name": "python3",
      "display_name": "Python 3"
    },
    "language_info": {
      "name": "python"
    }
  },
  "cells": [
    {
      "cell_type": "markdown",
      "metadata": {
        "id": "view-in-github",
        "colab_type": "text"
      },
      "source": [
        "<a href=\"https://colab.research.google.com/gist/dim68790a/d9c7fd99ab601d84874e273aa53eb3f3/-1-1-0-ipynb.ipynb\" target=\"_parent\"><img src=\"https://colab.research.google.com/assets/colab-badge.svg\" alt=\"Open In Colab\"/></a>"
      ]
    },
    {
      "cell_type": "markdown",
      "source": [
        "**ФИО:**"
      ],
      "metadata": {
        "id": "GEsFKJm-ABFp"
      }
    },
    {
      "cell_type": "code",
      "execution_count": null,
      "metadata": {
        "id": "wZMLYG_G_-19"
      },
      "outputs": [],
      "source": [
        "Горбук Дмитрий Михайлович"
      ]
    },
    {
      "cell_type": "markdown",
      "source": [
        "# Задание 1"
      ],
      "metadata": {
        "id": "H4DrYnJjADuZ"
      }
    },
    {
      "cell_type": "markdown",
      "source": [
        "\n",
        "\n",
        "```\n",
        "# Выбран кодовый формат\n",
        "```\n",
        "\n",
        "**Описание:** Создайте иерархию классов для разных типов сотрудников в компании. Реализуйте родительский класс Employee и дочерние классы Manager и Developer. Каждый класс должен иметь метод для расчета зарплаты на основе различных критериев класса.\n",
        "\n",
        "\n",
        "Отрабатываемый принцип: Наследование\n",
        "\n"
      ],
      "metadata": {
        "id": "C17FWep-AF4a"
      }
    },
    {
      "cell_type": "code",
      "source": [
        "class Employee:\n",
        "  def __init__(self, name, surname, age):\n",
        "    self.name=name\n",
        "    self.surname=surname\n",
        "    self.age=age\n",
        "  def __str__(self):\n",
        "    return f'Я {self.name} {self.surname}, мне {self.age}'\n",
        "\n",
        "class Manager(Employee):\n",
        "    def __str__(self):\n",
        "        return f'{super().__str__()}, моя зарплата 77 777 руб'\n",
        "\n",
        "class Developer(Employee):\n",
        "    def __str__(self):\n",
        "        return f'{super().__str__()}, моя зарплата 0,23 руб'\n",
        "\n",
        "manager = Manager('Петя', 'Петорович', 32)\n",
        "print(manager)\n",
        "\n",
        "developer = Developer('Вася', 'Василич', 68)\n",
        "print(developer)\n"
      ],
      "metadata": {
        "id": "aexGXzqCAFH7",
        "colab": {
          "base_uri": "https://localhost:8080/"
        },
        "outputId": "3c7f28d9-7021-4bb9-9bd0-5ecc5e7aacee"
      },
      "execution_count": null,
      "outputs": [
        {
          "output_type": "stream",
          "name": "stdout",
          "text": [
            "Я Петя Петорович, мне 32, моя зарплата 77 777 руб\n",
            "Я Вася Василич, мне 68, моя зарплата 0,23 руб\n"
          ]
        }
      ]
    },
    {
      "cell_type": "markdown",
      "source": [
        "# Задание 2"
      ],
      "metadata": {
        "id": "ERAi0TG5BI6v"
      }
    },
    {
      "cell_type": "markdown",
      "source": [
        "**Описание:** Создайте иерархию классов для различных типов транспортных средств (Необходим один родительский класс и 3 дочерних). Реализуйте метод, который позволяет каждому транспортному средству возвращать собственное описание (Метод в каждом классе должен иметь одинаковое название). Продемонстрируйте вызов данного метода для каждого транспортного средства.\n",
        "\n",
        "\n",
        "Отрабатываемый принцип: Полиморфизм"
      ],
      "metadata": {
        "id": "sJ3k7ZcgBK87"
      }
    },
    {
      "cell_type": "code",
      "source": [
        "class Transport:\n",
        "    def __init__(self, brend, model, year):\n",
        "        self.brend = brend\n",
        "        self.model = model\n",
        "        self.year = year\n",
        "    def options(self):\n",
        "        return f'это {self.brend}, модель {self.model}, {self.year} года выпуска'\n",
        "\n",
        "class Car(Transport):\n",
        "    def __init__(self, brend, model, year, horse):\n",
        "        super().__init__(brend, model, year)\n",
        "        self.horse = horse\n",
        "    def options(self):\n",
        "        return f'{super().options()}, у этого авто {self.horse} лошадиных сил'\n",
        "\n",
        "class Moto(Transport):\n",
        "    def __init__(self, brend, model, year, clas):\n",
        "        super().__init__(brend, model, year)\n",
        "        self.clas = clas\n",
        "    def options(self):\n",
        "        return f'{super().options()}, это {self.clas}'\n",
        "\n",
        "class Air(Transport):\n",
        "    def __init__(self, brend, model, year, engine):\n",
        "        super().__init__(brend, model, year)\n",
        "        self.engine = engine\n",
        "    def options(self):\n",
        "        return f'{super().options()}, это самолёт и у него {self.engine} двигателя'\n",
        "\n",
        "car = Car(\"Ford\", 'mustang', 2016, 550)\n",
        "moto = Moto('Suzuki','fx-7',2017,'Sport bike')\n",
        "air = Air('Boing',747,2003,4)\n",
        "print(car.options())\n",
        "print(moto.options())\n",
        "print(air.options())"
      ],
      "metadata": {
        "id": "WOFOZQmDBKf4",
        "colab": {
          "base_uri": "https://localhost:8080/"
        },
        "outputId": "78cd65e6-bbc6-4e78-a7bd-8938ec1f3584"
      },
      "execution_count": null,
      "outputs": [
        {
          "output_type": "stream",
          "name": "stdout",
          "text": [
            "это Ford, модель mustang, 2016 года выпуска, у этого авто 550 лошадиных сил\n",
            "это Suzuki, модель fx-7, 2017 года выпуска, это Sport bike\n",
            "это Boing, модель 747, 2003 года выпуска, это самолёт и у него 4 двигателя\n"
          ]
        }
      ]
    },
    {
      "cell_type": "markdown",
      "source": [
        "# Задание 3"
      ],
      "metadata": {
        "id": "7E_SJXMJBvD4"
      }
    },
    {
      "cell_type": "markdown",
      "source": [
        "Онлайн-магазин:\n",
        "- Создайте модель для онлайн-магазина с классами Product, Order, Customer, и ShoppingCart.\n",
        "- Product включает информацию о цене, наличии на складе и категории товара.\n",
        "Order обрабатывает процесс покупки, включая расчет цены с учетом скидок и налогов.\n",
        "- Customer управляет информацией о пользователе и его истории заказов.\n",
        "- ShoppingCart позволяет добавлять, удалять и обновлять количество товаров перед оформлением заказа.\n"
      ],
      "metadata": {
        "id": "dd1mwKj_BxHa"
      }
    },
    {
      "cell_type": "code",
      "source": [
        "class Product:\n",
        "    def __init__(self, product_id, name, price, stock, category):\n",
        "        self.product_id = product_id\n",
        "        self.name = name\n",
        "        self.price = price\n",
        "        self.stock = stock\n",
        "        self.category = category\n",
        "\n",
        "    def __str__(self):\n",
        "        return f\"ID: {self.product_id}, Название: {self.name}, Цена: {self.price}, Наличие: {self.stock}, Категория: {self.category}\"\n",
        "\n",
        "\n",
        "class Order:\n",
        "    def __init__(self, customer, order_items, discount=0, tax_rate=0.2):\n",
        "        self.customer = customer\n",
        "        self.order_items = order_items\n",
        "        self.discount = discount\n",
        "        self.tax_rate = tax_rate\n",
        "\n",
        "    def calculate_total(self):\n",
        "        subtotal = sum(item.quantity * item.product.price for item in self.order_items)\n",
        "        discount_amount = subtotal * self.discount\n",
        "        tax_amount = (subtotal - discount_amount) * self.tax_rate\n",
        "        total = subtotal - discount_amount + tax_amount\n",
        "        return total\n",
        "\n",
        "    def __str__(self):\n",
        "        items_str = \"\\n\".join(str(item) for item in self.order_items)\n",
        "        return f\"Заказчик: {self.customer.name}\\nТовары:\\n{items_str}\\nИтого: {self.calculate_total()}\"\n",
        "\n",
        "\n",
        "class Customer:\n",
        "    def __init__(self, customer_id, name):\n",
        "        self.customer_id = customer_id\n",
        "        self.name = name\n",
        "        self.orders = []\n",
        "\n",
        "    def add_order(self, order):\n",
        "        self.orders.append(order)\n",
        "\n",
        "    def __str__(self):\n",
        "        return f\"ID: {self.customer_id}, Имя: {self.name}\"\n",
        "\n",
        "\n",
        "class OrderItem:\n",
        "    def __init__(self, product, quantity):\n",
        "        self.product = product\n",
        "        self.quantity = quantity\n",
        "\n",
        "    def __str__(self):\n",
        "        return f\"{self.product.name} x {self.quantity}\"\n",
        "\n",
        "\n",
        "class ShoppingCart:\n",
        "    def __init__(self):\n",
        "        self.items = []\n",
        "\n",
        "    def add_item(self, product, quantity):\n",
        "        if product.stock >= quantity:\n",
        "            for item in self.items:\n",
        "                if item.product.product_id == product.product_id:\n",
        "                    item.quantity += quantity\n",
        "                    return\n",
        "            self.items.append(OrderItem(product, quantity))\n",
        "            print(\"Товар добавлен в корзину.\")\n",
        "        else:\n",
        "            print(f\"Недостаточно товара {product.name} на складе.\")\n",
        "\n",
        "    def remove_item(self, product):\n",
        "        for item in self.items:\n",
        "            if item.product.product_id == product.product_id:\n",
        "                self.items.remove(item)\n",
        "                return\n",
        "\n",
        "    def update_quantity(self, product, quantity):\n",
        "        for item in self.items:\n",
        "            if item.product.product_id == product.product_id:\n",
        "                if product.stock >= quantity:\n",
        "                    item.quantity = quantity\n",
        "                else:\n",
        "                    print(f\"Недостаточно товара {product.name} на складе.\")\n",
        "                return\n",
        "\n",
        "    def checkout(self, customer):\n",
        "        order = Order(customer, self.items)\n",
        "        customer.add_order(order)\n",
        "        for item in self.items:\n",
        "            item.product.stock -= item.quantity\n",
        "        return order\n",
        "\n",
        "    def __str__(self):\n",
        "        items_str = \"\\n\".join(str(item) for item in self.items)\n",
        "        return f\"Товары в корзине:\\n{items_str}\"\n",
        "def display_menu():\n",
        "    print(\"\\nМеню:\")\n",
        "    print(\"1. Просмотреть товары\")\n",
        "    print(\"2. Добавить товар в корзину\")\n",
        "    print(\"3. Удалить товар из корзины\")\n",
        "    print(\"4. Изменить количество товара в корзине\")\n",
        "    print(\"5. Оформить заказ\")\n",
        "    print(\"6. Выход\")\n",
        "\n",
        "\n",
        "\n",
        "products = [\n",
        "    Product(1, \"Телефон\", 10000, 1000, \"Электроника\"),\n",
        "    Product(2, \"Шапка\", 250, 5000, \"Одежда\"),\n",
        "    Product(3, \"Хлеб\", 20, 150000, \"Продукты\"),\n",
        "    ]\n",
        "cart = ShoppingCart()\n",
        "customer = Customer(1, \"Петя Петькин\")\n",
        "\n",
        "\n",
        "while True:\n",
        "    display_menu()\n",
        "    choice = input(\"Выберите пункт меню: \")\n",
        "\n",
        "    if choice == \"1\":\n",
        "        for product in products:\n",
        "            print(product)\n",
        "    elif choice == \"2\":\n",
        "        product_id = int(input(\"Введите ID товара: \"))\n",
        "        quantity = int(input(\"Введите количество: \"))\n",
        "        product = next((p for p in products if p.product_id == product_id), None)\n",
        "        if product:\n",
        "            cart.add_item(product, quantity)\n",
        "            print(\"Товар добавлен в корзину.\")\n",
        "        else:\n",
        "            print(\"Товар не найден.\")\n",
        "    elif choice == \"3\":\n",
        "        product_id = int(input(\"Введите ID товара для удаления: \"))\n",
        "        product = next((p for p in products if p.product_id == product_id), None)\n",
        "        if product:\n",
        "            cart.remove_item(product)\n",
        "            print(\"Товар удален из корзины.\")\n",
        "        else:\n",
        "            print(\"Товар не найден.\")\n",
        "    elif choice == \"4\":\n",
        "        product_id = int(input(\"Введите ID товара для изменения количества: \"))\n",
        "        quantity = int(input(\"Введите новое количество: \"))\n",
        "        product = next((p for p in products if p.product_id == product_id), None)\n",
        "        if product:\n",
        "            cart.update_quantity(product, quantity)\n",
        "            print(\"Количество товара изменено.\")\n",
        "        else:\n",
        "            print(\"Товар не найден.\")\n",
        "    elif choice == \"5\":\n",
        "        if cart.items:\n",
        "            order = cart.checkout(customer)\n",
        "            print(order)\n",
        "            cart = ShoppingCart()\n",
        "        else:\n",
        "            print(\"Корзина пуста.\")\n",
        "    elif choice == \"6\":\n",
        "        break\n",
        "    else:\n",
        "        print(\"Неверный выбор.\")"
      ],
      "metadata": {
        "id": "wkCcv_K-Bwdv",
        "colab": {
          "base_uri": "https://localhost:8080/"
        },
        "outputId": "9c858ab4-fba7-4147-be15-284131242835"
      },
      "execution_count": 1,
      "outputs": [
        {
          "name": "stdout",
          "output_type": "stream",
          "text": [
            "\n",
            "Меню:\n",
            "1. Просмотреть товары\n",
            "2. Добавить товар в корзину\n",
            "3. Удалить товар из корзины\n",
            "4. Изменить количество товара в корзине\n",
            "5. Оформить заказ\n",
            "6. Выход\n",
            "Выберите пункт меню: 1\n",
            "ID: 1, Название: Телефон, Цена: 10000, Наличие: 1000, Категория: Электроника\n",
            "ID: 2, Название: Шапка, Цена: 250, Наличие: 5000, Категория: Одежда\n",
            "ID: 3, Название: Хлеб, Цена: 20, Наличие: 150000, Категория: Продукты\n",
            "\n",
            "Меню:\n",
            "1. Просмотреть товары\n",
            "2. Добавить товар в корзину\n",
            "3. Удалить товар из корзины\n",
            "4. Изменить количество товара в корзине\n",
            "5. Оформить заказ\n",
            "6. Выход\n",
            "Выберите пункт меню: 3\n",
            "Введите ID товара для удаления: 50000\n",
            "Товар не найден.\n",
            "\n",
            "Меню:\n",
            "1. Просмотреть товары\n",
            "2. Добавить товар в корзину\n",
            "3. Удалить товар из корзины\n",
            "4. Изменить количество товара в корзине\n",
            "5. Оформить заказ\n",
            "6. Выход\n",
            "Выберите пункт меню: 2\n",
            "Введите ID товара: 3\n",
            "Введите количество: 50000\n",
            "Товар добавлен в корзину.\n",
            "Товар добавлен в корзину.\n",
            "\n",
            "Меню:\n",
            "1. Просмотреть товары\n",
            "2. Добавить товар в корзину\n",
            "3. Удалить товар из корзины\n",
            "4. Изменить количество товара в корзине\n",
            "5. Оформить заказ\n",
            "6. Выход\n",
            "Выберите пункт меню: 5\n",
            "Заказчик: Петя Петькин\n",
            "Товары:\n",
            "Хлеб x 50000\n",
            "Итого: 1200000.0\n",
            "\n",
            "Меню:\n",
            "1. Просмотреть товары\n",
            "2. Добавить товар в корзину\n",
            "3. Удалить товар из корзины\n",
            "4. Изменить количество товара в корзине\n",
            "5. Оформить заказ\n",
            "6. Выход\n",
            "Выберите пункт меню: 1\n",
            "ID: 1, Название: Телефон, Цена: 10000, Наличие: 1000, Категория: Электроника\n",
            "ID: 2, Название: Шапка, Цена: 250, Наличие: 5000, Категория: Одежда\n",
            "ID: 3, Название: Хлеб, Цена: 20, Наличие: 100000, Категория: Продукты\n",
            "\n",
            "Меню:\n",
            "1. Просмотреть товары\n",
            "2. Добавить товар в корзину\n",
            "3. Удалить товар из корзины\n",
            "4. Изменить количество товара в корзине\n",
            "5. Оформить заказ\n",
            "6. Выход\n",
            "Выберите пункт меню: 6\n"
          ]
        }
      ]
    },
    {
      "cell_type": "code",
      "source": [],
      "metadata": {
        "id": "DEtGAxJOQPwK"
      },
      "execution_count": null,
      "outputs": []
    },
    {
      "cell_type": "code",
      "source": [],
      "metadata": {
        "id": "XtNrcR-gQRKk"
      },
      "execution_count": null,
      "outputs": []
    },
    {
      "cell_type": "markdown",
      "source": [
        "# Задание 4"
      ],
      "metadata": {
        "id": "ih7iPlYfB7lL"
      }
    },
    {
      "cell_type": "markdown",
      "source": [
        "Симулятор космического корабля:\n",
        "- Создайте симулятор управления космическим кораблем с классами SpaceShip, CrewMember, и Mission.\n",
        "- SpaceShip имеет атрибуты для управления топливом, состоянием корпуса, и текущей скоростью.\n",
        "- CrewMember контролирует здоровье, навыки, и роли в команде (например, пилот, инженер).\n",
        "- Mission определяет цели, ресурсы, и возможные события (например, аварии, встречи с астероидами)."
      ],
      "metadata": {
        "id": "zLwqVCbpCBvc"
      }
    },
    {
      "cell_type": "code",
      "source": [],
      "metadata": {
        "id": "4NyrOOy8B9ED"
      },
      "execution_count": null,
      "outputs": []
    },
    {
      "cell_type": "markdown",
      "source": [
        "# Дополнительно:"
      ],
      "metadata": {
        "id": "F7mRVsZjCXk0"
      }
    },
    {
      "cell_type": "markdown",
      "source": [
        "**Описание:** создайте консольную версию игры крестики-нолики, используя классы"
      ],
      "metadata": {
        "id": "X4Lkf86UCc1h"
      }
    },
    {
      "cell_type": "code",
      "source": [],
      "metadata": {
        "id": "x9OxpNsyCcUo"
      },
      "execution_count": null,
      "outputs": []
    }
  ]
}
