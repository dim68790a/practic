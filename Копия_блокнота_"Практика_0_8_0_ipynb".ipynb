{
  "nbformat": 4,
  "nbformat_minor": 0,
  "metadata": {
    "colab": {
      "provenance": [],
      "collapsed_sections": [
        "ra45s33wUt-C",
        "ia9UtA0cU1Iy",
        "eecUb-akU1ji",
        "QGrsZrv5U1s8"
      ],
      "include_colab_link": true
    },
    "kernelspec": {
      "name": "python3",
      "display_name": "Python 3"
    },
    "language_info": {
      "name": "python"
    }
  },
  "cells": [
    {
      "cell_type": "markdown",
      "metadata": {
        "id": "view-in-github",
        "colab_type": "text"
      },
      "source": [
        "<a href=\"https://colab.research.google.com/gist/dim68790a/61119efc0bbbd8aca0081dd11f17f0c4/-0-8-0-ipynb.ipynb\" target=\"_parent\"><img src=\"https://colab.research.google.com/assets/colab-badge.svg\" alt=\"Open In Colab\"/></a>"
      ]
    },
    {
      "cell_type": "markdown",
      "source": [
        "# Задание 1"
      ],
      "metadata": {
        "id": "ra45s33wUt-C"
      }
    },
    {
      "cell_type": "markdown",
      "source": [
        "Задача: Создать чат бота для получения информации об исследованиях космоса\n",
        "\n",
        "Описание: Создайте комплексное приложение командной строки, которое будет использоваться в качестве панели управления исследованиями космоса. Данное приложение будет обращаться к https://api.nasa.gov/ для предоставления пользователям набора информации о космосе, включая:\n",
        "\n",
        "- Астрономическая картинка дня (APOD): Отображение APOD с пояснениями к нему.\n",
        "- Фотографии с марсохода: позволяет пользователям выбирать и фильтровать фотографии с марсохода по дате и типу камеры.\n",
        "- Объекты, сближающиеся с Землей (ОСЗ): Поиск и отображение информации об объекте, сближающихся с Землей, на определенную дату, включая их размеры и потенциальную опасность.\n",
        "- Данные о космической погоде: Отображают последние данные о космической погоде, включая солнечные вспышки и геомагнитные бури.\n",
        "Приложение должно позволять пользователям ориентироваться в этих функциях, корректно обрабатывать ошибки и обеспечивать удобство работы.\n",
        "\n",
        "Требования:\n",
        "- Пользовательский ввод: Приложение должно предложить пользователю ввести данные, чтобы выбрать, какую функцию он хочет изучить.\n",
        "- Проверка данных: Убедитесь, что пользовательские данные (например, даты) проверены.\n",
        "- Обработка ошибок: Корректно обрабатывайте ошибки API и неверные ответы.\n",
        "- Представление данных: Представляйте данные в четкой и организованной форме.\n",
        "- Опция выхода: позволяет пользователям выходить из приложения в любое время."
      ],
      "metadata": {
        "id": "G56D5mNCUwp5"
      }
    },
    {
      "cell_type": "code",
      "execution_count": null,
      "metadata": {
        "id": "wGeJM9n4UqUD",
        "colab": {
          "base_uri": "https://localhost:8080/"
        },
        "outputId": "7d32f3d2-88c1-4fbc-b589-f8eca5d7ea62"
      },
      "outputs": [
        {
          "output_type": "stream",
          "name": "stdout",
          "text": [
            "Что хотите посмотреть: 1. Астрономические картинки 2. Фотографии с марсохода 3. Объекты сближающиеся с землёй 4. Данные о космической погоде 5. Закончить 2\n",
            "Какая камера вас интересует: 1. Curiosity 2. Opportunity 3. Spirit 2\n",
            "Введите сол за который вы хотите получить фото(Пример 50): 347\n",
            "Перейдите по сыллке чтобы азнакомиться с фото http://mars.nasa.gov/mer/gallery/all/1/f/347/1F158988640EDN40DPP1111L0M1-BR.JPG\n"
          ]
        }
      ],
      "source": [
        "import requests\n",
        "\n",
        "\n",
        "def APOD():\n",
        "    date = input('Введите дату за которую вы хотите получить фото'\n",
        "                 '(Пример 2024-11-05): ')\n",
        "    url = f'https://api.nasa.gov/planetary/apod?api_key={key}&date={date}'\n",
        "    response = requests.get(url)\n",
        "    json = response.json()\n",
        "    print(f'Перейдите по сыллке чтобы азнакомиться с фото {json[\"hdurl\"]}')\n",
        "\n",
        "def PHOTO():\n",
        "    cam = {1 : 'curiosity', 2 : 'opportunity', 3 : 'spirit'}\n",
        "    camera = int(input('Какая камера вас интересует: 1. Curiosity 2. Opportunity 3. Spirit '))\n",
        "    camera = cam[camera]\n",
        "    date = input('Введите сол за который вы хотите получить фото'\n",
        "                 '(Пример 50): ')\n",
        "    url=f'https://api.nasa.gov/mars-photos/api/v1/rovers/{camera}/photos?sol={date}&api_key={key}'\n",
        "    response = requests.get(url)\n",
        "    json = response.json()\n",
        "    print(f'Перейдите по сыллке чтобы азнакомиться с фото {json[\"photos\"][0][\"img_src\"]}')\n",
        "\n",
        "def OCZ():\n",
        "    data_1 = input(\"Введите дату начала(Пример 2024-11-05): \")\n",
        "    data_2 = input('Введите дату конца (Пример 2024-11-05, неболее недели): ')\n",
        "    url = f'https://api.nasa.gov/neo/rest/v1/feed?start_date={data_1}&end_date={data_2}&api_key={key}'\n",
        "    response = requests.get(url)\n",
        "    json = response.json()\n",
        "    print(json)\n",
        "\n",
        "def WEATHER():\n",
        "    url = f'https://api.nasa.gov/DONKI/GST?startDate=yyyy-MM-dd&endDate=yyyy-MM-dd&api_key={key}'\n",
        "    response = requests.get(url)\n",
        "    json = response.json()\n",
        "    weather_1 = f'Геомагнитная буря {json}'\n",
        "    url = f'https://api.nasa.gov/DONKI/FLR?startDate=yyyy-MM-dd&endDate=yyyy-MM-dd&api_key={key}'\n",
        "    response = requests.get(url)\n",
        "    json = response.json()\n",
        "    print(f'Солнечная вспышка {json}', weather_1)\n",
        "\n",
        "\n",
        "key='j37QVlIeJw2v2ZKOASJmPAhLUTUIDisAwpWMIilJ'\n",
        "while True:\n",
        "    request = int(input(\"Что хотите посмотреть: 1. Астрономические картинки \"\n",
        "                \"2. Фотографии с марсохода \"\n",
        "                \"3. Объекты сближающиеся с землёй \"\n",
        "                \"4. Данные о космической погоде \"\n",
        "                \"5. Закончить \"))\n",
        "    if request == 1:\n",
        "        APOD()\n",
        "    elif request == 2:\n",
        "        PHOTO()\n",
        "    elif request == 3:\n",
        "        OCZ()\n",
        "    elif request == 4:\n",
        "        WEATHER()\n",
        "    elif request == 5:\n",
        "        break\n",
        "    else:\n",
        "        print(\"Некоректный ввод\")"
      ]
    },
    {
      "cell_type": "markdown",
      "source": [
        "# Задание 2"
      ],
      "metadata": {
        "id": "ia9UtA0cU1Iy"
      }
    },
    {
      "cell_type": "markdown",
      "source": [
        "Описание задачи\n",
        "\n",
        "Цель этой задачи - создать скрипт на Python, который взаимодействует с API Чикагского института искусств (https://api.artic.edu/docs/) для извлечения и отображения произведений искусства. Скрипт должен позволять пользователям просматривать работы по страницам, фильтровать их по имени художника и просматривать подробную информацию о выбранных произведениях искусства. Ниже приведены требования и функциональные возможности, которые необходимо реализовать:\n",
        "\n",
        "Требования:\n",
        "Извлекать произведения искусства:\n",
        "\n",
        "- Создайте функцию, которая извлекает список произведений искусства из API Чикагского института искусств.\n",
        "Функция должна принимать параметр page для разбивки на страницы и возвращать список произведений искусства вместе с информацией о разбивке на страницы.\n",
        "Фильтровать произведения искусства:\n",
        "\n",
        "- Реализуйте функцию, которая фильтрует список произведений искусства на основе имени указанного художника. Функция должна возвращать список работ, которые соответствуют имени художника (без учета регистра).\n",
        "Отображать подробную информацию об оформлении:\n",
        "\n",
        "- Напишите функцию, которая отображает названия работ для пользователя и позволяет ему выбрать одну из них, введя соответствующий номер.\n",
        "После выбора функция должна отображать подробную информацию о выбранном произведении, включая название, исполнителя, дату и носитель.\n",
        "Разбивка на страницы и взаимодействие с пользователем:\n",
        "\n",
        "- Создайте основную функцию, которая управляет выборкой произведений и взаимодействием с пользователем.\n",
        "\n",
        "Разрешите пользователям перемещаться по страницам с произведениями искусства, выполнять фильтрацию по исполнителю или выходить из программы.\n",
        "\n",
        "Если страниц с произведениями искусства несколько, укажите варианты перехода к следующей странице, предыдущей странице, фильтрации по исполнителю или выхода из программы."
      ],
      "metadata": {
        "id": "Ofu_GmqrU1Iy"
      }
    },
    {
      "cell_type": "code",
      "execution_count": 1,
      "metadata": {
        "id": "jjUH1GznU1Iy",
        "colab": {
          "base_uri": "https://localhost:8080/"
        },
        "outputId": "5dc58a8b-594a-4e36-dd4e-9b9aaee9db38"
      },
      "outputs": [
        {
          "name": "stdout",
          "output_type": "stream",
          "text": [
            "\n",
            "Страница 1 из 10528\n",
            "1. Untitled (Robert Sengstacke)\n",
            "2. University of Islam School Assembly, 1966 (Ozier Muhammad)\n",
            "3. Untitled, from the series \"Black Muslims\" (Mikki Ferrill)\n",
            "4. Untitled (Luis Medina)\n",
            "5. Untitled (Luis Medina)\n",
            "6. Latin Kings, Chicago (Luis Medina)\n",
            "7. Blackstone, Woodlawn/Chicago (Darryl Cowherd)\n",
            "8. Sketchbook #1 (Warren Linn)\n",
            "9. Shoeshine Boys, Old Town, Chicago, 1973 (Ozier Muhammad)\n",
            "10. Lana Turner with Her Own Eyebrows Before Schrafft's Drug Store (Karl Wirsum)\n",
            "11. Gang Member, Chicago (Luis Medina)\n",
            "12. Sinan Reis and Hayreddin Barbarossa (Imitator of Gentile Bellini)\n",
            "\n",
            "Выберите действие:\n",
            "1. Следующая страница\n",
            "2. Предыдущая страница\n",
            "3. Фильтровать по исполнителю\n",
            "4. Выход\n",
            "Ваш выбор: 1\n",
            "\n",
            "Страница 2 из 10528\n",
            "1. Composition with Red Arrow (Marcel Janco)\n",
            "2. The Game (Heidi Bucher)\n",
            "3. A Tune, from The Blue Guitar (David Hockney)\n",
            "4. Title Page, from The Blue Guitar (David Hockney)\n",
            "5. Cup (Joseph Loring)\n",
            "6. Improvisation No. 30 (Cannons) (Vasily Kandinsky)\n",
            "7. Ad Astra (Axeli Gallen-Kallela)\n",
            "8. Untitled (Donald Judd)\n",
            "9. Untitled (Donald Judd)\n",
            "10. Untitled (Donald Judd)\n",
            "11. Untitled (Donald Judd)\n",
            "12. Untitled (Donald Judd)\n",
            "\n",
            "Выберите действие:\n",
            "1. Следующая страница\n",
            "2. Предыдущая страница\n",
            "3. Фильтровать по исполнителю\n",
            "4. Выход\n",
            "Ваш выбор: 2\n",
            "\n",
            "Страница 1 из 10528\n",
            "1. Untitled (Robert Sengstacke)\n",
            "2. University of Islam School Assembly, 1966 (Ozier Muhammad)\n",
            "3. Untitled, from the series \"Black Muslims\" (Mikki Ferrill)\n",
            "4. Untitled (Luis Medina)\n",
            "5. Untitled (Luis Medina)\n",
            "6. Latin Kings, Chicago (Luis Medina)\n",
            "7. Blackstone, Woodlawn/Chicago (Darryl Cowherd)\n",
            "8. Sketchbook #1 (Warren Linn)\n",
            "9. Shoeshine Boys, Old Town, Chicago, 1973 (Ozier Muhammad)\n",
            "10. Lana Turner with Her Own Eyebrows Before Schrafft's Drug Store (Karl Wirsum)\n",
            "11. Gang Member, Chicago (Luis Medina)\n",
            "12. Sinan Reis and Hayreddin Barbarossa (Imitator of Gentile Bellini)\n",
            "\n",
            "Выберите действие:\n",
            "1. Следующая страница\n",
            "2. Предыдущая страница\n",
            "3. Фильтровать по исполнителю\n",
            "4. Выход\n",
            "Ваш выбор: 3\n",
            "Введите имя художника: Luis Medina\n",
            "1. Untitled (Luis Medina)\n",
            "2. Untitled (Luis Medina)\n",
            "3. Latin Kings, Chicago (Luis Medina)\n",
            "4. Gang Member, Chicago (Luis Medina)\n",
            "Выберите номер произведения для просмотра подробной информации (или нажмите Enter для возврата): 2\n",
            "Название: Untitled\n",
            "Исполнитель: Luis Medina\n",
            "Дата: c. 1980\n",
            "Носитель: Silver dye-bleach print\n",
            "\n",
            "Страница 1 из 10528\n",
            "1. Untitled (Robert Sengstacke)\n",
            "2. University of Islam School Assembly, 1966 (Ozier Muhammad)\n",
            "3. Untitled, from the series \"Black Muslims\" (Mikki Ferrill)\n",
            "4. Untitled (Luis Medina)\n",
            "5. Untitled (Luis Medina)\n",
            "6. Latin Kings, Chicago (Luis Medina)\n",
            "7. Blackstone, Woodlawn/Chicago (Darryl Cowherd)\n",
            "8. Sketchbook #1 (Warren Linn)\n",
            "9. Shoeshine Boys, Old Town, Chicago, 1973 (Ozier Muhammad)\n",
            "10. Lana Turner with Her Own Eyebrows Before Schrafft's Drug Store (Karl Wirsum)\n",
            "11. Gang Member, Chicago (Luis Medina)\n",
            "12. Sinan Reis and Hayreddin Barbarossa (Imitator of Gentile Bellini)\n",
            "\n",
            "Выберите действие:\n",
            "1. Следующая страница\n",
            "2. Предыдущая страница\n",
            "3. Фильтровать по исполнителю\n",
            "4. Выход\n",
            "Ваш выбор: 4\n"
          ]
        }
      ],
      "source": [
        "import requests\n",
        "\n",
        "API_URL = \"https://api.artic.edu/api/v1/artworks\"\n",
        "\n",
        "def fetch_artworks(page=1, artist=None):\n",
        "    params = {\"page\": page}\n",
        "    if artist:\n",
        "        params[\"q\"] = f\"artist:{artist}\"\n",
        "    response = requests.get(API_URL, params=params)\n",
        "    response.raise_for_status()\n",
        "    data = response.json()\n",
        "    return data[\"data\"], data[\"pagination\"]\n",
        "\n",
        "\n",
        "def filter_artworks(artworks, artist):\n",
        "    return [artwork for artwork in artworks if artist.lower() in artwork[\"artist_title\"].lower()]\n",
        "\n",
        "\n",
        "def artwork_details(artwork):\n",
        "    print(f\"Название: {artwork['title']}\")\n",
        "    print(f\"Исполнитель: {artwork['artist_title']}\")\n",
        "    print(f\"Дата: {artwork.get('date_display', 'Не указано')}\")\n",
        "    print(f\"Носитель: {artwork.get('medium_display', 'Не указано')}\")\n",
        "\n",
        "\n",
        "\n",
        "page = 1\n",
        "while True:\n",
        "    artworks, pagination = fetch_artworks(page)\n",
        "    if not artworks:\n",
        "        print(\"Нет произведений искусства на этой странице.\")\n",
        "        break\n",
        "    print(f\"\\nСтраница {page} из {pagination['total_pages']}\")\n",
        "    for i, artwork in enumerate(artworks):\n",
        "        print(f\"{i+1}. {artwork['title']} ({artwork['artist_title']})\")\n",
        "    choice = input(\"\\nВыберите действие:\\n\"\n",
        "                   \"1. Следующая страница\\n\"\n",
        "                   \"2. Предыдущая страница\\n\"\n",
        "                   \"3. Фильтровать по исполнителю\\n\"\n",
        "                   \"4. Выход\\n\"\n",
        "                   \"Ваш выбор: \")\n",
        "    if choice == \"1\":\n",
        "        if page < pagination[\"total_pages\"]:\n",
        "            page += 1\n",
        "        else:\n",
        "            print(\"Это последняя страница.\")\n",
        "    elif choice == \"2\":\n",
        "        if page > 1:\n",
        "            page -= 1\n",
        "        else:\n",
        "            print(\"Это первая страница.\")\n",
        "    elif choice == \"3\":\n",
        "        artist_name = input(\"Введите имя художника: \")\n",
        "        filtered_artworks = filter_artworks(artworks, artist_name)\n",
        "        if filtered_artworks:\n",
        "            for i, artwork in enumerate(filtered_artworks):\n",
        "                print(f\"{i+1}. {artwork['title']} ({artwork['artist_title']})\")\n",
        "            artwork_choice = input(\"Выберите номер произведения для просмотра подробной информации (или нажмите Enter для возврата): \")\n",
        "            try:\n",
        "                artwork_index = int(artwork_choice) -1\n",
        "                if 0 <= artwork_index < len(filtered_artworks):\n",
        "                    artwork_details(filtered_artworks[artwork_index])\n",
        "                else:\n",
        "                    print(\"Некорректный номер произведения.\")\n",
        "\n",
        "            except ValueError:\n",
        "                pass\n",
        "        else:\n",
        "            print(\"Произведений искусства этого художника не найдено.\")\n",
        "    elif choice == \"4\":\n",
        "        break\n",
        "    else:\n",
        "        print(\"Некорректный выбор.\")"
      ]
    },
    {
      "cell_type": "markdown",
      "source": [
        "# Задание 3"
      ],
      "metadata": {
        "id": "eecUb-akU1ji"
      }
    },
    {
      "cell_type": "markdown",
      "source": [
        "Задача: Создать программу по управлению портфелем криптовалют\n",
        "\n",
        "Цель: Создать скрипт на Python, который извлекает цены на криптовалюты в режиме реального времени, позволяет пользователям управлять портфелем криптовалют, вычисляет общую стоимость портфеля, отслеживает изменения цен и предоставляет исторические данные о ценах для анализа.\n",
        "\n",
        "Требования:\n",
        "Получение текущих цен на криптовалюты:\n",
        "\n",
        "Используйте https://docs.coingecko.com/ для получения актуальных цен на список криптовалют.\n",
        "\n",
        "Управление портфелем:\n",
        "\n",
        "- Позволяет пользователю создавать портфель криптовалют и управлять им, указывая количество каждой криптовалюты, которой он владеет.\n",
        "- Расчитывает общую стоимость портфеля в указанной фиатной валюте (например, долларах США).\n",
        "\n",
        "Отслеживание изменения цен:\n",
        "\n",
        "- Отображение процентного изменения цены для каждой криптовалюты в портфеле за последние 24 часа.\n",
        "- Выделите все криптовалюты, стоимость которых значительно увеличилась или снизилась.\n",
        "\n",
        "Поиск исторических данных о ценах:\n",
        "\n",
        "- Получение исторических данных о ценах на указанную криптовалюту за последнюю неделю.\n",
        "- Предоставьте пользователю возможность визуализировать эти данные в простом текстовом формате (например, цены за день).\n",
        "\n",
        "Взаимодействие с пользователем:\n",
        "\n",
        "- Реализуйте интерфейс командной строки для ввода данных пользователем.\n",
        "- Предоставьте опции для получения текущих цен, управления портфелем, просмотра изменений цен или анализа исторических данных.\n"
      ],
      "metadata": {
        "id": "jsK7IKptU1ji"
      }
    },
    {
      "cell_type": "code",
      "source": [],
      "metadata": {
        "id": "_0DToTqlvywa"
      },
      "execution_count": null,
      "outputs": []
    },
    {
      "cell_type": "markdown",
      "source": [
        "# Дополнительно: Задание 4"
      ],
      "metadata": {
        "id": "QGrsZrv5U1s8"
      }
    },
    {
      "cell_type": "markdown",
      "source": [
        "Задание 4: Проектное\n",
        "\n",
        "Вам необходимо самостоятельно найти откртое API предоставляющее информацию в открытом доступе и реализовать собственный проект!\n",
        "\n",
        "\n",
        "Критерии приемки результата:\n",
        "\n",
        "- Проект включает в себя не менее 5 возможостей для пользователя\n",
        "- Проект позволяет использовать все возможности проекта пользователю при помощи взаимодействия через коммандную строку\n",
        "- Проект работает с открытым API (это значит что при проверке вашей работы преподавателем, преподавателю необходимо просто запустить ячейку с кодом вашего проекта и она будет работать без дополнительных манипуляции)\n",
        "- Проект должен обязательно включать в себя ряд используемых конструкции:\n",
        "    - Функции\n",
        "    - Условные конструкции\n",
        "    - Ввод/вывод\n",
        "    - Словари/Списки\n",
        "- Допускается использование библиотек:\n",
        "    - requests\n",
        "    - datetime\n",
        "    - random"
      ],
      "metadata": {
        "id": "qs_XITmYU1s8"
      }
    },
    {
      "cell_type": "markdown",
      "source": [
        "**Здесь добавьте описание вашего проекта**"
      ],
      "metadata": {
        "id": "VKXhaJi4FL0B"
      }
    },
    {
      "cell_type": "code",
      "execution_count": null,
      "metadata": {
        "id": "wiA55k1KU1s8"
      },
      "outputs": [],
      "source": [
        "#  А здесь код"
      ]
    }
  ]
}
