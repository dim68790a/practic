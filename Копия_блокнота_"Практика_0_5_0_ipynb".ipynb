{
  "nbformat": 4,
  "nbformat_minor": 0,
  "metadata": {
    "colab": {
      "provenance": [],
      "include_colab_link": true
    },
    "kernelspec": {
      "name": "python3",
      "display_name": "Python 3"
    },
    "language_info": {
      "name": "python"
    }
  },
  "cells": [
    {
      "cell_type": "markdown",
      "metadata": {
        "id": "view-in-github",
        "colab_type": "text"
      },
      "source": [
        "<a href=\"https://colab.research.google.com/github/dim68790a/practic/blob/main/%D0%9A%D0%BE%D0%BF%D0%B8%D1%8F_%D0%B1%D0%BB%D0%BE%D0%BA%D0%BD%D0%BE%D1%82%D0%B0_%22%D0%9F%D1%80%D0%B0%D0%BA%D1%82%D0%B8%D0%BA%D0%B0_0_5_0_ipynb%22.ipynb\" target=\"_parent\"><img src=\"https://colab.research.google.com/assets/colab-badge.svg\" alt=\"Open In Colab\"/></a>"
      ]
    },
    {
      "cell_type": "markdown",
      "source": [
        "ФИО:"
      ],
      "metadata": {
        "id": "Bu5gIJfHNPHw"
      }
    },
    {
      "cell_type": "code",
      "execution_count": null,
      "metadata": {
        "id": "CbHI8c7cM9Eg"
      },
      "outputs": [],
      "source": [
        "Горбук Дмитрий Михайлович"
      ]
    },
    {
      "cell_type": "markdown",
      "source": [
        "# **Задание 1**"
      ],
      "metadata": {
        "id": "VrNrBpmocGRd"
      }
    },
    {
      "cell_type": "markdown",
      "source": [
        "\n",
        "\n",
        "Дан словарь, содержащий имена и возраст людей, напишите программу выводящую возраст человека по имени\n",
        "\n",
        "Дано:\n",
        "\n",
        "```\n",
        "{\"Alice\": 25, \"Bob\": 30, \"Charlie\": 35}\n",
        "```\n",
        "\n",
        "Вввод:\n",
        "\n",
        "\n",
        "```\n",
        "Alice\n",
        "```\n",
        "\n",
        "Вывод:\n",
        "\n",
        "\n",
        "```\n",
        "Alice 25\n",
        "```\n"
      ],
      "metadata": {
        "id": "XhV1bnm1bR2h"
      }
    },
    {
      "cell_type": "code",
      "source": [
        "x={\"Alice\": 25, \"Bob\": 30, \"Charlie\": 35}\n",
        "y = input(\"Кто вас интересует: \" )\n",
        "print(y, x[y])"
      ],
      "metadata": {
        "id": "9T0nNFCEbpaF",
        "colab": {
          "base_uri": "https://localhost:8080/"
        },
        "outputId": "3922ef5e-3b21-4dfe-94d1-0d67edcbb36d"
      },
      "execution_count": null,
      "outputs": [
        {
          "output_type": "stream",
          "name": "stdout",
          "text": [
            "Кто вас интересует: Alice\n",
            "Alice 25\n"
          ]
        }
      ]
    },
    {
      "cell_type": "markdown",
      "source": [
        "# **Задание 2**\n"
      ],
      "metadata": {
        "id": "lpjJz-_YcJ-t"
      }
    },
    {
      "cell_type": "markdown",
      "source": [
        "\n",
        "\n",
        "Дан список, состоящий из целых чисел, необходимо написать функцию считающую сумму всех положительных четных чисел списка\n",
        "\n",
        "Ввод:\n",
        "\n",
        "```\n",
        "1, 2, 3, 4, 5, 6, 7, 8, 9\n",
        "```\n",
        "\n",
        "Вывод:\n",
        "\n",
        "\n",
        "```\n",
        "20\n",
        "```\n",
        "\n",
        "***Запрещено:***\n",
        "\n",
        "*   Использование готовых функций для суммирования чисел\n"
      ],
      "metadata": {
        "id": "tMEsAB4rUiWW"
      }
    },
    {
      "cell_type": "code",
      "source": [
        "x=[1, 2, 3, 4, 5, 6, 7, 8, 9]\n",
        "z=0\n",
        "for i in range(len(x)):\n",
        "    if abs(x[i]) == x[i]:\n",
        "        if x[i] % 2 == 0:\n",
        "            z += x[i]\n",
        "print(z)"
      ],
      "metadata": {
        "id": "wDNUFLeqNQS_",
        "colab": {
          "base_uri": "https://localhost:8080/"
        },
        "outputId": "7232d87c-5167-467e-978b-05c3d585a289"
      },
      "execution_count": null,
      "outputs": [
        {
          "output_type": "stream",
          "name": "stdout",
          "text": [
            "20\n"
          ]
        }
      ]
    },
    {
      "cell_type": "markdown",
      "source": [
        "# **Задание 3**"
      ],
      "metadata": {
        "id": "WT_v-vz1dUZJ"
      }
    },
    {
      "cell_type": "markdown",
      "source": [
        "Дан словарь, содержащий название фрукта и его цвет, выведите список всех желтых фруктов\n",
        "\n",
        "\n",
        "Дано:\n",
        "\n",
        "```\n",
        "fruits_and_colors = {\n",
        "    \"apple\": \"red\",\n",
        "    \"banana\": \"yellow\",\n",
        "    \"mango\": \"yellow\",\n",
        "    \"orange\": \"orange\",\n",
        "    \"lemon\": \"yellow\",\n",
        "    \"grape\": \"purple\"\n",
        "}\n",
        "```\n",
        "\n",
        "Вывод:\n",
        "\n",
        "\n",
        "```\n",
        "Yellow fruits:\n",
        "banana\n",
        "lemon\n",
        "mango\n",
        "```\n",
        "\n"
      ],
      "metadata": {
        "id": "ZI5Xeh2DdXgF"
      }
    },
    {
      "cell_type": "code",
      "source": [
        "fruits_and_colors = {\n",
        "    \"apple\": \"red\",\n",
        "    \"banana\": \"yellow\",\n",
        "    \"mango\": \"yellow\",\n",
        "    \"orange\": \"orange\",\n",
        "    \"lemon\": \"yellow\",\n",
        "    \"grape\": \"purple\"\n",
        "}\n",
        "z = \"\"\n",
        "for i,x in fruits_and_colors.items():\n",
        "    if x == \"yellow\":\n",
        "        z += i + \", \"\n",
        "print(\"Yellow fruits: \", z)"
      ],
      "metadata": {
        "id": "aNzFTkhKdkTG",
        "colab": {
          "base_uri": "https://localhost:8080/"
        },
        "outputId": "639c9c5c-fd80-4294-99f0-22efcb378a19"
      },
      "execution_count": null,
      "outputs": [
        {
          "output_type": "stream",
          "name": "stdout",
          "text": [
            "Yellow fruits:  banana, mango, lemon, \n"
          ]
        }
      ]
    },
    {
      "cell_type": "markdown",
      "source": [
        "# **Задание 4**\n"
      ],
      "metadata": {
        "id": "iHtMGt2icM7w"
      }
    },
    {
      "cell_type": "markdown",
      "source": [
        "\n",
        "\n",
        "Дан словарь, необходимо написать функцию меняющую ключ и значение местами\n",
        "\n",
        "Дано:\n",
        "\n",
        "\n",
        "```\n",
        "{\"a\": 1, \"b\": 2, \"c\": 3}\n",
        "```\n",
        "\n",
        "Вывод:\n",
        "\n",
        "```\n",
        "{1: 'a', 2: 'b', 3: 'c'}\n",
        "```\n",
        "\n"
      ],
      "metadata": {
        "id": "rS3THsnBQ_EB"
      }
    },
    {
      "cell_type": "code",
      "source": [
        "x = {\"a\": 1, \"b\": 2, \"c\": 3}\n",
        "y = {}\n",
        "for i,z in x.items():\n",
        "    y[z]=i\n",
        "print(y)"
      ],
      "metadata": {
        "id": "MNRusyLDcQ59",
        "colab": {
          "base_uri": "https://localhost:8080/"
        },
        "outputId": "8a6bb316-bb4a-48cf-c06b-8c76e624e756"
      },
      "execution_count": null,
      "outputs": [
        {
          "output_type": "stream",
          "name": "stdout",
          "text": [
            "{1: 'a', 2: 'b', 3: 'c'}\n"
          ]
        }
      ]
    },
    {
      "cell_type": "markdown",
      "source": [
        "# **Задание 5**"
      ],
      "metadata": {
        "id": "x6ff5nd0cUxD"
      }
    },
    {
      "cell_type": "markdown",
      "source": [
        "Дан список слов, неограниченной длинны, сформируйте словарь, где в качестве ключа будет слово, а в качестве значения количество символов\n",
        "\n",
        "**Критерии**\n",
        "\n",
        "\n",
        "*   Словарь необходимо отсортировать по убыванию количества элементов в списке.\n",
        "*   Подсчет элементов должен быть реализован в отдельной функции\n",
        "*   Сортировка пары `ключ:значение` должна быть реализована также в виде отдельной функции\n",
        "\n",
        "\n",
        "\n",
        "\n",
        "Дано:\n",
        "```\n",
        "['apple','banana','orange','apple','apple','banana']\n",
        "```\n",
        "\n",
        "\n",
        "Вывод:\n",
        "```\n",
        "{'apple':3, 'banana': 2, 'orange': 1}\n",
        "```\n",
        "\n",
        "***Запрещено:***\n",
        "\n",
        "*   Использование готовых функций для сортировки словаря\n",
        "*   Использование готовых функций для подсчета элементов\n",
        "\n"
      ],
      "metadata": {
        "id": "ypQNHOG4NQz3"
      }
    },
    {
      "cell_type": "code",
      "source": [
        "x = ['apple','orange','banana','apple','apple','banana']\n",
        "def s(x):\n",
        "    z ={}\n",
        "    for i in x:\n",
        "        if (i in z) == 0:\n",
        "            z[i]=x.count(i)\n",
        "    return z\n",
        "\n",
        "def r(y):\n",
        "    z = []\n",
        "    r = {}\n",
        "    for p in y.keys():\n",
        "        z.append(p)\n",
        "    n= len(z)\n",
        "    for i in range(n):\n",
        "        for j in range(0, n - i - 1):\n",
        "            if z[j] < z[j + 1]:\n",
        "                z[j], z[j + 1] = z[j + 1], z[j]\n",
        "    for i in range(len(z)):\n",
        "        for k, v in y.items():\n",
        "            if z[i] == k:\n",
        "                r[k]=v\n",
        "    return r\n",
        "\n",
        "p=s(x)\n",
        "y={}\n",
        "u={}\n",
        "for i,z in p.items():\n",
        "    y[z]=i\n",
        "y = r(y)\n",
        "for i,z in y.items():\n",
        "    u[z]=i\n",
        "print(u)"
      ],
      "metadata": {
        "id": "J10PjdVQUbyq",
        "colab": {
          "base_uri": "https://localhost:8080/"
        },
        "outputId": "dae42b7b-c83d-44f6-a691-7800e29c3fc5"
      },
      "execution_count": null,
      "outputs": [
        {
          "output_type": "stream",
          "name": "stdout",
          "text": [
            "{'apple': 3, 'banana': 2, 'orange': 1}\n"
          ]
        }
      ]
    },
    {
      "cell_type": "markdown",
      "source": [
        "# **Задание 6**"
      ],
      "metadata": {
        "id": "d7fDUr2WcY_G"
      }
    },
    {
      "cell_type": "markdown",
      "source": [
        "Дан словарь, содержащий информацию о людях, необходимо:\n",
        "\n",
        "\n",
        "\n",
        "*   Вывести всех людей старше 30 лет\n",
        "*   Вывести список городов и количество людей из словаря проживающих в них\n",
        "*   Вывести список профессий и список людей для каждой профессии\n",
        "\n",
        "**Критерии**\n",
        "\n",
        "Каждый из пунктов необходимо реализовать в виде функции\n",
        "\n"
      ],
      "metadata": {
        "id": "m11qdVhSWBi7"
      }
    },
    {
      "cell_type": "code",
      "source": [
        "people_info = {\n",
        "    \"Alice\": {\"age\": 25, \"city\": \"New York\", \"occupation\": \"Engineer\"},\n",
        "    \"Bob\": {\"age\": 30, \"city\": \"Los Angeles\", \"occupation\": \"Designer\"},\n",
        "    \"Charlie\": {\"age\": 35, \"city\": \"Chicago\", \"occupation\": \"Teacher\"},\n",
        "    \"Diana\": {\"age\": 28, \"city\": \"Miami\", \"occupation\": \"Doctor\"},\n",
        "    \"Ethan\": {\"age\": 40, \"city\": \"Seattle\", \"occupation\": \"Chef\"},\n",
        "    \"Frank\": {\"age\": 32, \"city\": \"Atlanta\", \"occupation\": \"Lawyer\"},\n",
        "    \"Gabriella\": {\"age\": 29, \"city\": \"San Francisco\", \"occupation\": \"Software Engineer\"},\n",
        "    \"Harrison\": {\"age\": 38, \"city\": \"Denver\", \"occupation\": \"Architect\"},\n",
        "    \"Isabella\": {\"age\": 26, \"city\": \"Washington D.C.\", \"occupation\": \"Journalist\"},\n",
        "    \"Julian\": {\"age\": 42, \"city\": \"Miami\", \"occupation\": \"Musician\"},\n",
        "    \"Kate\": {\"age\": 31, \"city\": \"Philadelphia\", \"occupation\": \"Nurse\"},\n",
        "    \"Lucas\": {\"age\": 36, \"city\": \"Nashville\", \"occupation\": \"Businessman\"},\n",
        "    \"Mia\": {\"age\": 27, \"city\": \"Atlanta\", \"occupation\": \"Artist\"},\n",
        "    \"Natalie\": {\"age\": 39, \"city\": \"Portland\", \"occupation\": \"Writer\"},\n",
        "    \"Oliver\": {\"age\": 44, \"city\": \"Minneapolis\", \"occupation\": \"Professor\"},\n",
        "    \"Penelope\": {\"age\": 33, \"city\": \"San Diego\", \"occupation\": \"Marketing Manager\"},\n",
        "    \"Quincy\": {\"age\": 41, \"city\": \"Nashville\", \"occupation\": \"Singer\"},\n",
        "    \"Rachel\": {\"age\": 34, \"city\": \"Cleveland\", \"occupation\": \"Teacher\"},\n",
        "    \"Sophia\": {\"age\": 29, \"city\": \"Nashville\", \"occupation\": \"Engineer\"},\n",
        "    \"Tessa\": {\"age\": 37, \"city\": \"Miami\", \"occupation\": \"Lawyer\"}\n",
        "}"
      ],
      "metadata": {
        "id": "lSNtB39OWtFl"
      },
      "execution_count": null,
      "outputs": []
    },
    {
      "cell_type": "code",
      "source": [
        "people_info = {\n",
        "    \"Alice\": {\"age\": 25, \"city\": \"New York\", \"occupation\": \"Engineer\"},\n",
        "    \"Bob\": {\"age\": 30, \"city\": \"Los Angeles\", \"occupation\": \"Designer\"},\n",
        "    \"Charlie\": {\"age\": 35, \"city\": \"Chicago\", \"occupation\": \"Teacher\"},\n",
        "    \"Diana\": {\"age\": 28, \"city\": \"Miami\", \"occupation\": \"Doctor\"},\n",
        "    \"Ethan\": {\"age\": 40, \"city\": \"Seattle\", \"occupation\": \"Chef\"},\n",
        "    \"Frank\": {\"age\": 32, \"city\": \"Atlanta\", \"occupation\": \"Lawyer\"},\n",
        "    \"Gabriella\": {\"age\": 29, \"city\": \"San Francisco\", \"occupation\": \"Software Engineer\"},\n",
        "    \"Harrison\": {\"age\": 38, \"city\": \"Denver\", \"occupation\": \"Architect\"},\n",
        "    \"Isabella\": {\"age\": 26, \"city\": \"Washington D.C.\", \"occupation\": \"Journalist\"},\n",
        "    \"Julian\": {\"age\": 42, \"city\": \"Miami\", \"occupation\": \"Musician\"},\n",
        "    \"Kate\": {\"age\": 31, \"city\": \"Philadelphia\", \"occupation\": \"Nurse\"},\n",
        "    \"Lucas\": {\"age\": 36, \"city\": \"Nashville\", \"occupation\": \"Businessman\"},\n",
        "    \"Mia\": {\"age\": 27, \"city\": \"Atlanta\", \"occupation\": \"Artist\"},\n",
        "    \"Natalie\": {\"age\": 39, \"city\": \"Portland\", \"occupation\": \"Writer\"},\n",
        "    \"Oliver\": {\"age\": 44, \"city\": \"Minneapolis\", \"occupation\": \"Professor\"},\n",
        "    \"Penelope\": {\"age\": 33, \"city\": \"San Diego\", \"occupation\": \"Marketing Manager\"},\n",
        "    \"Quincy\": {\"age\": 41, \"city\": \"Nashville\", \"occupation\": \"Singer\"},\n",
        "    \"Rachel\": {\"age\": 34, \"city\": \"Cleveland\", \"occupation\": \"Teacher\"},\n",
        "    \"Sophia\": {\"age\": 29, \"city\": \"Nashville\", \"occupation\": \"Engineer\"},\n",
        "    \"Tessa\": {\"age\": 37, \"city\": \"Miami\", \"occupation\": \"Lawyer\"}\n",
        "}\n",
        "def r(people_info):\n",
        "    y = \"\"\n",
        "    for i,j in people_info.items():\n",
        "        for k, v in j.items():\n",
        "            if k == 'age' and v > 30:\n",
        "                y += i + ' '\n",
        "            else:\n",
        "                continue\n",
        "    return y\n",
        "print(r(people_info))\n",
        "def t(people_info):\n",
        "    y = []\n",
        "    for j in people_info.values():\n",
        "        for k, v in j.items():\n",
        "            if k == \"city\":\n",
        "                y.append(v)\n",
        "    z= ''\n",
        "    for i in y:\n",
        "        if (i in z) == 0:\n",
        "            z += i + \": \" + str(y.count(i)) + \" \"\n",
        "    return z\n",
        "print(t(people_info))\n",
        "def u(people_info):\n",
        "    y = []\n",
        "    for j in people_info.values():\n",
        "        for k, v in j.items():\n",
        "            if k == \"occupation\":\n",
        "                y.append(v)\n",
        "    z= ''\n",
        "    jk = ''\n",
        "    for i in y:\n",
        "        for o, j in people_info.items():\n",
        "            for k, v in j.items():\n",
        "                if k == \"occupation\" and v == i:\n",
        "                    jk += o\n",
        "                if (i in z) == 0:\n",
        "                    z += i + \": \" + jk + \", \"\n",
        "    return z\n",
        "print(u(people_info))"
      ],
      "metadata": {
        "id": "qcLO5eQwXkNK",
        "colab": {
          "base_uri": "https://localhost:8080/"
        },
        "outputId": "589fd62f-36a8-4e63-aa9e-5a71a4793686"
      },
      "execution_count": null,
      "outputs": [
        {
          "output_type": "stream",
          "name": "stdout",
          "text": [
            "Charlie Ethan Frank Harrison Julian Kate Lucas Natalie Oliver Penelope Quincy Rachel Tessa \n",
            "New York: 1 Los Angeles: 1 Chicago: 1 Miami: 3 Seattle: 1 Atlanta: 2 San Francisco: 1 Denver: 1 Washington D.C.: 1 Philadelphia: 1 Nashville: 3 Portland: 1 Minneapolis: 1 San Diego: 1 Cleveland: 1 \n",
            "Engineer: , Designer: AliceSophia, Teacher: AliceSophiaBob, Doctor: AliceSophiaBobCharlieRachel, Chef: AliceSophiaBobCharlieRachelDiana, Lawyer: AliceSophiaBobCharlieRachelDianaEthan, Software Engineer: AliceSophiaBobCharlieRachelDianaEthanFrankTessa, Architect: AliceSophiaBobCharlieRachelDianaEthanFrankTessaGabriella, Journalist: AliceSophiaBobCharlieRachelDianaEthanFrankTessaGabriellaHarrison, Musician: AliceSophiaBobCharlieRachelDianaEthanFrankTessaGabriellaHarrisonIsabella, Nurse: AliceSophiaBobCharlieRachelDianaEthanFrankTessaGabriellaHarrisonIsabellaJulian, Businessman: AliceSophiaBobCharlieRachelDianaEthanFrankTessaGabriellaHarrisonIsabellaJulianKate, Artist: AliceSophiaBobCharlieRachelDianaEthanFrankTessaGabriellaHarrisonIsabellaJulianKateLucas, Writer: AliceSophiaBobCharlieRachelDianaEthanFrankTessaGabriellaHarrisonIsabellaJulianKateLucasMia, Professor: AliceSophiaBobCharlieRachelDianaEthanFrankTessaGabriellaHarrisonIsabellaJulianKateLucasMiaNatalie, Marketing Manager: AliceSophiaBobCharlieRachelDianaEthanFrankTessaGabriellaHarrisonIsabellaJulianKateLucasMiaNatalieOliver, Singer: AliceSophiaBobCharlieRachelDianaEthanFrankTessaGabriellaHarrisonIsabellaJulianKateLucasMiaNatalieOliverPenelope, \n"
          ]
        }
      ]
    },
    {
      "cell_type": "markdown",
      "source": [
        "# **Задание 7**"
      ],
      "metadata": {
        "id": "27IuB2YScezw"
      }
    },
    {
      "cell_type": "markdown",
      "source": [
        "Задание: Разработка системы отзывов о предметах\n",
        "\n",
        "Описание: Создать программу на Python для хранения и управления отзывами о предметах учебного курса. Программа должна позволять пользователям добавлять, просматривать и удалять отзывы, а также вычислять средний балл по заданному предмету.\n",
        "\n",
        "**Функционал:**\n",
        "\n",
        "*   Добавление отзыва и оценки:\n",
        "   *   Пользователь может ввести название предмета, оценку (от 1 до 5) и текст отзыва.\n",
        "   *   Отзывы должны храниться в структуре данных (например, словаре), где ключом будет название предмета, а значением - список отзывов (каждый отзыв может хранить оценку и комментарий).\n",
        "*   Просмотр отзывов и оценок:\n",
        "   *   Пользователь может запросить отзывы для указанного предмета.\n",
        "   *   Если для указанного предмета есть отзывы, программа должна отобразить список всех отзывов и соответствующих оценок.\n",
        "*   Удаление отзыва:\n",
        "   *   Пользователь может удалить отзыв по индексу. Необходимо заранее уведомить пользователя о том, какие отзывы доступны для удаления.\n",
        "   *   Программа должна обработать ситуацию, когда индекс введен неправильно.\n",
        "*   Вычисление среднего балла по предмету:\n",
        "   *   Пользователь может ввести название предмета, и программа должна вычислить и вывести средний балл по всем отзывам для этого предмета.\n",
        "   *   Если отзывов нет, программа должна сообщить об этом.\n",
        "\n",
        "\n",
        "**Критерии:**\n",
        "\n",
        "*   Код должен быть оформлен в виде функций\n",
        "*   Необходимо обрабатывать неправильный ввод пользователя\n",
        "*   Должны быть комментарии к функциям\n",
        "*   Присутсвует весь дополнительный функционал\n",
        "\n",
        "\n",
        "\n",
        "**Опционально:**\n",
        "\n",
        "Предлагаю вам добавить свои критерии оценки или вопросы, на которые должен ответить студент, чтобы оценить пару\n",
        "\n",
        "\n"
      ],
      "metadata": {
        "id": "Fd95-S9cYhct"
      }
    },
    {
      "cell_type": "code",
      "source": [
        "def dob(otzvs): #Добавляет отзыв\n",
        "  predmet = input(\"Введите название предмета: \")\n",
        "  while True:\n",
        "    try:\n",
        "      raiting = int(input(\"Введите оценку (от 1 до 5): \"))\n",
        "      if 1 <= raiting <= 5:\n",
        "        break\n",
        "      else:\n",
        "        print(\"Оценка должна быть в диапазоне от 1 до 5. Попробуйте снова.\")\n",
        "    except ValueError:\n",
        "      print(\"Неверный формат оценки. Попробуйте снова.\")\n",
        "  otzv = input(\"Введите текст отзыва: \")\n",
        "  if predmet in otzvs:\n",
        "    otzvs[predmet].append({\"оценка\": raiting, \"отзыв\": otzv})\n",
        "  else:\n",
        "    otzvs[predmet] = [{\"оценка\": raiting, \"отзыв\": otzv}]\n",
        "  print(\"Отзыв добавлен!\")\n",
        "\n",
        "def see(otzvs): #Отображает список отзывов\n",
        "  predmet = input(\"Введите название предмета: \")\n",
        "  if predmet in otzvs:\n",
        "    for i, otzv in enumerate(otzvs[predmet]):\n",
        "      print(f\"Отзыв {i + 1}:\")\n",
        "      print(f\"Оценка: {otzv['оценка']}\")\n",
        "      print(f\"Текст: {otzv['отзыв']}\")\n",
        "  else:\n",
        "    print(f\"Отзывов для предмета '{predmet}' не найдено.\")\n",
        "\n",
        "def delete(otzvs): #Удаляет отзыв\n",
        "  predmet = input(\"Введите название предмета: \")\n",
        "  if predmet in otzvs:\n",
        "    print(\"Доступные отзывы:\")\n",
        "    for i, otzv in enumerate(otzvs[predmet]):\n",
        "      print(f\"{i + 1}. Оценка: {otzv['оценка']}, Текст: {otzv['отзыв']}\")\n",
        "    while True:\n",
        "      try:\n",
        "        index = int(input(\"Введите индекс отзыва для удаления: \"))\n",
        "        if 1 <= index <= len(otzvs[predmet]):\n",
        "          break\n",
        "        else:\n",
        "          print(\"Неверный индекс. Попробуйте снова.\")\n",
        "      except ValueError:\n",
        "        print(\"Неверный формат индекса. Попробуйте снова.\")\n",
        "    del otzvs[predmet][index - 1]\n",
        "    print(\"Отзыв удален.\")\n",
        "  else:\n",
        "    print(f\"Отзывов для предмета '{predmet}' не найдено.\")\n",
        "\n",
        "def medium(otzvs): #Вычисляет средний балл\n",
        "  predmet = input(\"Введите название предмета: \")\n",
        "  if predmet in otzvs:\n",
        "    suma = sum(otzv['оценка'] for otzv in otzvs[predmet])\n",
        "    medium = suma / len(otzvs[predmet])\n",
        "    print(f\"Средний балл по предмету '{predmet}': {medium:.2f}\")\n",
        "  else:\n",
        "    print(f\"Отзывов для предмета '{predmet}' не найдено.\")\n",
        "\n",
        "\n",
        "otzvs = {}  # Словарь для хранения отзывов\n",
        "while True:\n",
        "    print(\"Выберите действие:\")\n",
        "    print(\"1. Добавить отзыв\")\n",
        "    print(\"2. Просмотреть отзывы\")\n",
        "    print(\"3. Удалить отзыв\")\n",
        "    print(\"4. Вычислить средний балл\")\n",
        "    print(\"5. Выход\")\n",
        "    while True:\n",
        "      try:\n",
        "        x = int(input(\"Введите номер действия: \"))\n",
        "        if 1 <= x <= 5:\n",
        "          break\n",
        "        else:\n",
        "          print(\"Неверный номер действия. Попробуйте снова.\")\n",
        "      except ValueError:\n",
        "        print(\"Неверный формат номера действия. Попробуйте снова.\")\n",
        "    if x == 1:\n",
        "      dob(otzvs)\n",
        "    elif x == 2:\n",
        "      see(otzvs)\n",
        "    elif x == 3:\n",
        "      delete(otzvs)\n",
        "    elif x == 4:\n",
        "      medium(otzvs)\n",
        "    elif x == 5:\n",
        "      print(\"До свидания!\")\n",
        "      break"
      ],
      "metadata": {
        "id": "kzucJrCUa0o7",
        "colab": {
          "base_uri": "https://localhost:8080/"
        },
        "outputId": "cd1e5420-b60d-4005-fe23-9dfc873eefc1"
      },
      "execution_count": null,
      "outputs": [
        {
          "output_type": "stream",
          "name": "stdout",
          "text": [
            "Выберите действие:\n",
            "1. Добавить отзыв\n",
            "2. Просмотреть отзывы\n",
            "3. Удалить отзыв\n",
            "4. Вычислить средний балл\n",
            "5. Выход\n",
            "Введите номер действия: 1\n",
            "Введите название предмета: аии\n",
            "Введите оценку (от 1 до 5): 5\n",
            "Введите текст отзыва: все замечательно\n",
            "Отзыв добавлен!\n",
            "Выберите действие:\n",
            "1. Добавить отзыв\n",
            "2. Просмотреть отзывы\n",
            "3. Удалить отзыв\n",
            "4. Вычислить средний балл\n",
            "5. Выход\n",
            "Введите номер действия: 2\n",
            "Введите название предмета: аии\n",
            "Отзыв 1:\n",
            "Оценка: 5\n",
            "Текст: все замечательно\n",
            "Выберите действие:\n",
            "1. Добавить отзыв\n",
            "2. Просмотреть отзывы\n",
            "3. Удалить отзыв\n",
            "4. Вычислить средний балл\n",
            "5. Выход\n",
            "Введите номер действия: 1\n",
            "Введите название предмета: аии\n",
            "Введите оценку (от 1 до 5): 4\n",
            "Введите текст отзыва: все хорошо\n",
            "Отзыв добавлен!\n",
            "Выберите действие:\n",
            "1. Добавить отзыв\n",
            "2. Просмотреть отзывы\n",
            "3. Удалить отзыв\n",
            "4. Вычислить средний балл\n",
            "5. Выход\n",
            "Введите номер действия: 4\n",
            "Введите название предмета: аии\n",
            "Средний балл по предмету 'аии': 4.50\n",
            "Выберите действие:\n",
            "1. Добавить отзыв\n",
            "2. Просмотреть отзывы\n",
            "3. Удалить отзыв\n",
            "4. Вычислить средний балл\n",
            "5. Выход\n",
            "Введите номер действия: 2\n",
            "Введите название предмета: аии\n",
            "Отзыв 1:\n",
            "Оценка: 5\n",
            "Текст: все замечательно\n",
            "Отзыв 2:\n",
            "Оценка: 4\n",
            "Текст: все хорошо\n",
            "Выберите действие:\n",
            "1. Добавить отзыв\n",
            "2. Просмотреть отзывы\n",
            "3. Удалить отзыв\n",
            "4. Вычислить средний балл\n",
            "5. Выход\n",
            "Введите номер действия: 3\n",
            "Введите название предмета: аии\n",
            "Доступные отзывы:\n",
            "1. Оценка: 5, Текст: все замечательно\n",
            "2. Оценка: 4, Текст: все хорошо\n",
            "Введите индекс отзыва для удаления: 2\n",
            "Отзыв удален.\n",
            "Выберите действие:\n",
            "1. Добавить отзыв\n",
            "2. Просмотреть отзывы\n",
            "3. Удалить отзыв\n",
            "4. Вычислить средний балл\n",
            "5. Выход\n",
            "Введите номер действия: 5\n",
            "До свидания!\n"
          ]
        }
      ]
    }
  ]
}