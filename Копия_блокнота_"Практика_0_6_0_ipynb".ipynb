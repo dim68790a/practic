{
  "nbformat": 4,
  "nbformat_minor": 0,
  "metadata": {
    "colab": {
      "provenance": [],
      "include_colab_link": true
    },
    "kernelspec": {
      "name": "python3",
      "display_name": "Python 3"
    },
    "language_info": {
      "name": "python"
    }
  },
  "cells": [
    {
      "cell_type": "markdown",
      "metadata": {
        "id": "view-in-github",
        "colab_type": "text"
      },
      "source": [
        "<a href=\"https://colab.research.google.com/github/dim68790a/practic/blob/main/%D0%9A%D0%BE%D0%BF%D0%B8%D1%8F_%D0%B1%D0%BB%D0%BE%D0%BA%D0%BD%D0%BE%D1%82%D0%B0_%22%D0%9F%D1%80%D0%B0%D0%BA%D1%82%D0%B8%D0%BA%D0%B0_0_6_0_ipynb%22.ipynb\" target=\"_parent\"><img src=\"https://colab.research.google.com/assets/colab-badge.svg\" alt=\"Open In Colab\"/></a>"
      ]
    },
    {
      "cell_type": "markdown",
      "source": [
        "\n",
        "\n",
        "---\n",
        "\n"
      ],
      "metadata": {
        "id": "tKNG_RzWxG6g"
      }
    },
    {
      "cell_type": "markdown",
      "source": [
        "# **Дисклеймер**\n",
        "\n",
        "В данной практике будет введен дополнительный критерий: чистота и читаемость кода, а также соблюдение правил описанных в начале практики"
      ],
      "metadata": {
        "id": "cFcrKfclKWh0"
      }
    },
    {
      "cell_type": "markdown",
      "source": [
        "\n",
        "\n",
        "---\n",
        "\n"
      ],
      "metadata": {
        "id": "0SnE87X1xDlV"
      }
    },
    {
      "cell_type": "markdown",
      "source": [
        "# Задание 1\n",
        "\n",
        "**Задача:**\n",
        "\n",
        "Напишите функцию очищающий список от дубликтов\n",
        "\n",
        "\n",
        "*Запрещено:*\n",
        "\n",
        "*   Использовать set() или готовые функции очищающие список от дубликатов\n",
        "\n",
        "Вввод:\n",
        "\n",
        "```\n",
        "apple banana apple 1 3 4 4 5\n",
        "```\n",
        "\n",
        "\n",
        "Вывод:\n",
        "\n",
        "```\n",
        "apple banana 1 3 4 5\n",
        "```\n",
        "\n"
      ],
      "metadata": {
        "id": "VxawR9NubT_F"
      }
    },
    {
      "cell_type": "code",
      "source": [
        "def sort(words):\n",
        "  result = ''\n",
        "  for i in words:\n",
        "    if (i in result) ==0:\n",
        "     result += i + ' '\n",
        "  return result\n",
        "\n",
        "\n",
        "words = input().split()\n",
        "print(sort(words))"
      ],
      "metadata": {
        "id": "ml5gnbPXbeju",
        "colab": {
          "base_uri": "https://localhost:8080/"
        },
        "outputId": "7af2b40b-8c0b-4290-a36d-7e5a8d763da1"
      },
      "execution_count": null,
      "outputs": [
        {
          "output_type": "stream",
          "name": "stdout",
          "text": [
            "apple banana apple 1 3 4 4 5\n",
            "apple banana 1 3 4 5 \n"
          ]
        }
      ]
    },
    {
      "cell_type": "markdown",
      "source": [
        "# Задание 2\n",
        "\n",
        "**Задача:**\n",
        "\n",
        "Написать функцию для нахождения простых чисел в диапазоне\n",
        "\n",
        "Ввод:\n",
        "\n",
        "```\n",
        "10, 50\n",
        "```\n",
        "\n",
        "Вывод:\n",
        "\n",
        "```\n",
        "11, 13, 17, 19, 23, 29, 31, 37, 41, 43, 47\n",
        "```"
      ],
      "metadata": {
        "id": "y05x0eD0cVCC"
      }
    },
    {
      "cell_type": "code",
      "source": [
        "def prost(x, y):\n",
        "    result = []\n",
        "    prov = 0\n",
        "    for i in range(x, y+1):\n",
        "        for z in range(2, i // 2 + 1):\n",
        "            if i % z == 0:\n",
        "                prov += 1\n",
        "        if prov == 0:\n",
        "            result.append(i)\n",
        "        prov = 0\n",
        "    return result\n",
        "\n",
        "\n",
        "number1 = int(input('Введите первое число: '))\n",
        "number2 = int(input('Введите второе число: '))\n",
        "print(prost(number1, number2))"
      ],
      "metadata": {
        "id": "XSMJnLgrc6Bf",
        "colab": {
          "base_uri": "https://localhost:8080/"
        },
        "outputId": "f2baf23d-9e00-4a9e-bb77-2c62fab898a0"
      },
      "execution_count": null,
      "outputs": [
        {
          "output_type": "stream",
          "name": "stdout",
          "text": [
            "Введите первое число: 10\n",
            "Введите второе число: 50\n",
            "[11, 13, 17, 19, 23, 29, 31, 37, 41, 43, 47]\n"
          ]
        }
      ]
    },
    {
      "cell_type": "markdown",
      "source": [
        "# Задание 3\n",
        "\n",
        "Напишите функцию для объединения двух списков (список ключей и список значении) в словарь\n",
        "\n",
        "*Запрещено:*\n",
        "\n",
        "*   Использования готовых функции для объединения списков (пример: zip() )\n",
        "\n",
        "Дано:\n",
        "\n",
        "```\n",
        "keys = ['a', 'b', 'c', 'e' ]\n",
        "values = [1, 2, 3, 4]\n",
        "```\n",
        "\n",
        "Вывод:\n",
        "```\n",
        "{'a': 1, 'b': 2, 'c': 3, 'e': 4}\n",
        "```\n",
        "\n",
        "\n"
      ],
      "metadata": {
        "id": "vYM0LyxxdElN"
      }
    },
    {
      "cell_type": "code",
      "source": [
        "def plus(keys, values):\n",
        "    result = {}\n",
        "    for i in range(len(keys)):\n",
        "        result[keys[i]] = values[i]\n",
        "    return result\n",
        "\n",
        "\n",
        "keys = ['a', 'b', 'c', 'e' ]\n",
        "values = [1, 2, 3, 4]\n",
        "print(plus(keys, values))"
      ],
      "metadata": {
        "id": "CRvhHTjCdvjS",
        "colab": {
          "base_uri": "https://localhost:8080/"
        },
        "outputId": "47c3404b-4794-4822-c5a6-0af787066932"
      },
      "execution_count": null,
      "outputs": [
        {
          "output_type": "stream",
          "name": "stdout",
          "text": [
            "{'a': 1, 'b': 2, 'c': 3, 'e': 4}\n"
          ]
        }
      ]
    },
    {
      "cell_type": "markdown",
      "source": [
        "# Задание 4\n",
        "\n",
        "Напишите функцию(ии) для подсчета статистических параметров:\n",
        "*   Сумму\n",
        "*   Среднее арифметическое\n",
        "*   Медиану\n",
        "*   Моду\n",
        "\n",
        "\n",
        "*Запрещено:*\n",
        "\n",
        "*   sum()\n",
        "*   sorted()\n",
        "*   и других функции предоставляющих готовое решение задания\n",
        "\n",
        "Дано:\n",
        "\n",
        "```\n",
        "numbers = [1, 2, 2, 3, 4, 5, 6, 7, 8 ,9 ,10]\n",
        "\n",
        "```\n",
        "\n",
        "Вывод:\n",
        "```\n",
        "{'mean': 5.181818181818182, 'median': 5, 'mode': 2, 'sum': 57}\n",
        "```\n"
      ],
      "metadata": {
        "id": "L_w8H8i-fQcP"
      }
    },
    {
      "cell_type": "code",
      "source": [
        "def vse(numbers):\n",
        "    result={}\n",
        "    suma = 0\n",
        "    mean = 0\n",
        "    mode = 0\n",
        "    for i in numbers:\n",
        "        suma += i\n",
        "        if numbers.count(i) > numbers.count(mode):\n",
        "            mode = i\n",
        "    result['sum']=suma\n",
        "    result['mean']=suma/len(numbers)\n",
        "    result['median']=numbers[len(numbers)//2]\n",
        "    result['mode']=mode\n",
        "    return result\n",
        "\n",
        "\n",
        "numbers = [1, 2, 2, 3, 4, 5, 6, 7, 8 ,9 ,10]\n",
        "print(vse(numbers))"
      ],
      "metadata": {
        "id": "dW6jW_rjfuba",
        "colab": {
          "base_uri": "https://localhost:8080/"
        },
        "outputId": "508dbc31-841d-4cba-ed98-5f651a9ac88b"
      },
      "execution_count": null,
      "outputs": [
        {
          "output_type": "stream",
          "name": "stdout",
          "text": [
            "{'sum': 57, 'mean': 5.181818181818182, 'median': 5, 'mode': 2}\n"
          ]
        }
      ]
    },
    {
      "cell_type": "markdown",
      "source": [
        "# Задание 5\n",
        "\n",
        "На ввод поступает строка символов. Строка состоит из слов, которые отделены друг от друга пробелами. Необходимо вывести самое длинное слово и его порядковый номер.\n",
        "\n",
        "*Запрещено:*\n",
        "\n",
        "*   len()\n",
        "\n",
        "Дано:\n",
        "\n",
        "```\n",
        "Страдание и боль всегда обязательны для широкого сознания и глубокого сердца.\n",
        "\n",
        "```\n",
        "\n",
        "Вывод:\n",
        "```\n",
        "Самое длинное слово с номером 5: обязательны\n",
        "```"
      ],
      "metadata": {
        "id": "hZW0NZ7SgTcp"
      }
    },
    {
      "cell_type": "code",
      "source": [
        "def word(offer):\n",
        "    offer = offer.split()\n",
        "    index = 0\n",
        "    indexw = 0\n",
        "    words = ''\n",
        "    lenghtmax = 0\n",
        "    for i in offer:\n",
        "        lenght = 0\n",
        "        index += 1\n",
        "        for letter in i:\n",
        "            lenght += 1\n",
        "        if lenght > lenghtmax:\n",
        "            words = i\n",
        "            lenghtmax = lenght\n",
        "            indexw =index\n",
        "    return words, indexw\n",
        "\n",
        "\n",
        "offer = ('Страдание и боль всегда обязательны для широкого сознания'\n",
        "         ' и глубокого сердца.')\n",
        "print(word(offer))"
      ],
      "metadata": {
        "id": "rC5DpHHLsDYp",
        "colab": {
          "base_uri": "https://localhost:8080/"
        },
        "outputId": "097c5b37-0a30-4a1d-8917-acc7514b5dbd"
      },
      "execution_count": null,
      "outputs": [
        {
          "output_type": "stream",
          "name": "stdout",
          "text": [
            "('обязательны', 5)\n"
          ]
        }
      ]
    },
    {
      "cell_type": "markdown",
      "source": [
        "# Задание 6\n",
        "\n",
        "Напишите программу, для управления оценками студентов, со следующими функциями:\n",
        "\n",
        "* Добавление информации о студенте и его оценках.\n",
        "* Подсчет среднего балла студента.\n",
        "* Получение списка всех студентов с их средними баллами.\n",
        "* Поиск студента по имени и вывод его оценок и среднего балла.\n",
        "\n",
        "\n",
        "\n"
      ],
      "metadata": {
        "id": "k5BzJW5ZeaQN"
      }
    },
    {
      "cell_type": "code",
      "source": [
        "spisok = {}\n",
        "while True:\n",
        "    task = int(input(\"1. Добавить студента и его оценки \"\n",
        "                     \"2. Вывести информацию о всех студентах \"\n",
        "                     \"3. Найти студента по имени: \"\n",
        "                     \"4. Закончить \"))\n",
        "    if task == 1:\n",
        "        namestud = input(\"Введите имя и фамилию студента: \")\n",
        "        ratings= input(\"Введите его оценки: \")\n",
        "        suma = 0\n",
        "        for i in ratings.split():\n",
        "            suma += int(i)\n",
        "        ratings = ratings + \" Средний бал: \" + str(suma/len(ratings.split()))\n",
        "        spisok[namestud]=ratings\n",
        "    elif task == 2:\n",
        "        print(spisok)\n",
        "    elif task == 3:\n",
        "        namestud = input(\"Кого ищите: \")\n",
        "        print(namestud, spisok[namestud])\n",
        "    else:\n",
        "      break"
      ],
      "metadata": {
        "id": "cvhlltVbdyoL",
        "colab": {
          "base_uri": "https://localhost:8080/"
        },
        "outputId": "f742a156-0aff-4523-bb9e-22277219f934"
      },
      "execution_count": 3,
      "outputs": [
        {
          "name": "stdout",
          "output_type": "stream",
          "text": [
            "1. Добавить студента и его оценки 2. Вывести информацию о всех студентах 3. Найти студента по имени: 4. Закончить 1\n",
            "Введите имя и фамилию студента: Петя Петькин\n",
            "Введите его оценки: 2 2 2 2 5\n",
            "1. Добавить студента и его оценки 2. Вывести информацию о всех студентах 3. Найти студента по имени: 4. Закончить 2\n",
            "{'Петя Петькин': '2 2 2 2 5 Средний бал: 2.6'}\n",
            "1. Добавить студента и его оценки 2. Вывести информацию о всех студентах 3. Найти студента по имени: 4. Закончить 3\n",
            "Кого ищите: Петя Петькин\n",
            "Петя Петькин 2 2 2 2 5 Средний бал: 2.6\n",
            "1. Добавить студента и его оценки 2. Вывести информацию о всех студентах 3. Найти студента по имени: 4. Закончить 4\n"
          ]
        }
      ]
    },
    {
      "cell_type": "markdown",
      "source": [
        "# Задание 7\n",
        "\n",
        "\n",
        "**Задача:**\n",
        "\n",
        "Создайте приложение-викторину с командной строкой, которое задает пользователям вопросы по различным темам и отслеживает их результаты.\n",
        "\n",
        "Ключевые особенности:\n",
        "\n",
        "*   Хранение данных о вопросах и ответах на них, а также баллов за каждый вопрос\n",
        "*   Реализуйте функцию для представления вопросов, принятия ответов пользователей и предоставления обратной связи о том, являются ли ответы правильными или неправильными.\n",
        "*  После завершения викторины отобразите общий балл пользователя из числа ответов на вопросы.\n",
        "*  Реализуйте функцию добавления нового вопроса\n",
        "*  Реализуйте функцию перемешивания вопросов, для отображения случайного вопроса\n"
      ],
      "metadata": {
        "id": "iQ8Z-7PYgu1_"
      }
    },
    {
      "cell_type": "code",
      "source": [
        "import random\n",
        "\n",
        "\n",
        "questions = {\n",
        "    \"Какая планета самая большая в Солнечной системе?\": \"Юпитер\",\n",
        "    \"Какая самая высокая гора в мире?\": \"Эверест\",\n",
        "    \"Сколько будет 150 + 150?\": \"300\",\n",
        "    \"В каком году началась Первая мировая война?\": \"1914\",\n",
        "    \"Сколько дней в году?\": \"365\",\n",
        "}\n",
        "\n",
        "\n",
        "def ask(question, answer): #задаём вопрос\n",
        "    print(question)\n",
        "    useranswer = input(\"Введите ваш ответ: \")\n",
        "    if useranswer == answer:\n",
        "        print(\"Правильно!\")\n",
        "        return 1\n",
        "    else:\n",
        "        print(f\"Неверно. Правильный ответ: {answer}\")\n",
        "        return 0\n",
        "\n",
        "\n",
        "def add(): #добавить вопрос\n",
        "    question = input(\"Введите новый вопрос: \")\n",
        "    answer = input(\"Введите правильный ответ: \")\n",
        "    questions[question] = answer\n",
        "    print(\"Вопрос добавлен!\")\n",
        "\n",
        "\n",
        "def shuffle(): #перемешивание вопросов\n",
        "    global questions\n",
        "    keys = list(questions)\n",
        "    random.shuffle(keys)\n",
        "    questions = {key: questions[key] for key in keys}\n",
        "\n",
        "\n",
        "while True:\n",
        "    print(\"Добро пожаловать в викторину!\")\n",
        "    score = 0\n",
        "    shuffle()\n",
        "    for question, answer in questions.items():\n",
        "        score += ask(question, answer)\n",
        "    print(f\"Ваш общий балл: {score} из {len(questions)}\")\n",
        "    addquestion = input(\"Хотите добавить новый вопрос? (да/нет): \")\n",
        "    if addquestion == \"да\":\n",
        "        add()\n",
        "    restart = input(\"Сыграем ещё? (да/нет): \")\n",
        "    if restart == \"нет\":\n",
        "        break"
      ],
      "metadata": {
        "id": "DhxyYwHwh2V4",
        "colab": {
          "base_uri": "https://localhost:8080/"
        },
        "outputId": "c58be972-3965-4602-fd0a-c2ada499c2ff"
      },
      "execution_count": null,
      "outputs": [
        {
          "name": "stdout",
          "output_type": "stream",
          "text": [
            "Добро пожаловать в викторину!\n",
            "Сколько дней в году?\n",
            "Введите ваш ответ: 365\n",
            "Правильно!\n",
            "В каком году началась Первая мировая война?\n",
            "Введите ваш ответ: вчера\n",
            "Неверно. Правильный ответ: 1914\n",
            "Какая самая высокая гора в мире?\n",
            "Введите ваш ответ: Эверест\n",
            "Правильно!\n",
            "Какая планета самая большая в Солнечной системе?\n",
            "Введите ваш ответ: земля\n",
            "Неверно. Правильный ответ: Юпитер\n",
            "Сколько будет 150 + 150?\n",
            "Введите ваш ответ: 300\n",
            "Правильно!\n",
            "Ваш общий балл: 3 из 5\n",
            "Хотите добавить новый вопрос? (да/нет): да\n",
            "Введите новый вопрос: я заслужил бал?\n",
            "Введите правильный ответ: да\n",
            "Вопрос добавлен!\n",
            "Сыграем ещё? (да/нет): нет\n"
          ]
        }
      ]
    }
  ]
}